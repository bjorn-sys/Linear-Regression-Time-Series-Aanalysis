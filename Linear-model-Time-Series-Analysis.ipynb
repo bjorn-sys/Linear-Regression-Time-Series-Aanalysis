{
 "cells": [
  {
   "cell_type": "code",
   "execution_count": 12,
   "id": "4d9734fc",
   "metadata": {},
   "outputs": [],
   "source": [
    "import pandas as pd\n",
    "import numpy as np\n",
    "import matplotlib.pyplot as plt\n",
    "import seaborn as sns\n",
    "from sklearn.linear_model import LinearRegression, Ridge, Lasso\n",
    "from sklearn.metrics import mean_absolute_error\n",
    "import plotly.express as px\n"
   ]
  },
  {
   "cell_type": "code",
   "execution_count": 13,
   "id": "60e5b1d9",
   "metadata": {},
   "outputs": [
    {
     "name": "stdout",
     "output_type": "stream",
     "text": [
      "(165156, 8)\n"
     ]
    },
    {
     "data": {
      "application/vnd.microsoft.datawrangler.viewer.v0+json": {
       "columns": [
        {
         "name": "index",
         "rawType": "int64",
         "type": "integer"
        },
        {
         "name": "sensor_id",
         "rawType": "int64",
         "type": "integer"
        },
        {
         "name": "sensor_type",
         "rawType": "object",
         "type": "string"
        },
        {
         "name": "location",
         "rawType": "int64",
         "type": "integer"
        },
        {
         "name": "lat",
         "rawType": "float64",
         "type": "float"
        },
        {
         "name": "lon",
         "rawType": "float64",
         "type": "float"
        },
        {
         "name": "timestamp",
         "rawType": "object",
         "type": "string"
        },
        {
         "name": "value_type",
         "rawType": "object",
         "type": "string"
        },
        {
         "name": "value",
         "rawType": "float64",
         "type": "float"
        }
       ],
       "conversionMethod": "pd.DataFrame",
       "ref": "47eb8358-4b5b-46bb-9077-ec44e4c835e0",
       "rows": [
        [
         "0",
         "40",
         "SDS011",
         "7",
         "-1.298",
         "36.791",
         "2018-04-01T00:02:07.071983+00:00",
         "humidity",
         "65.8"
        ],
        [
         "1",
         "40",
         "SDS011",
         "7",
         "-1.298",
         "36.791",
         "2018-04-01T00:02:07.071983+00:00",
         "temperature",
         "21.1"
        ],
        [
         "2",
         "40",
         "SDS011",
         "7",
         "-1.298",
         "36.791",
         "2018-04-01T00:02:07.111462+00:00",
         "P2",
         "4.4"
        ],
        [
         "3",
         "40",
         "SDS011",
         "7",
         "-1.298",
         "36.791",
         "2018-04-01T00:02:07.111462+00:00",
         "P1",
         "7.8"
        ],
        [
         "4",
         "43",
         "SDS011",
         "20",
         "-1.253",
         "36.854",
         "2018-04-01T00:03:56.860816+00:00",
         "humidity",
         "76.3"
        ],
        [
         "5",
         "43",
         "SDS011",
         "20",
         "-1.253",
         "36.854",
         "2018-04-01T00:03:56.860816+00:00",
         "temperature",
         "19.5"
        ],
        [
         "6",
         "40",
         "SDS011",
         "7",
         "-1.298",
         "36.791",
         "2018-04-01T00:04:36.364175+00:00",
         "P2",
         "4.43"
        ],
        [
         "7",
         "40",
         "SDS011",
         "7",
         "-1.298",
         "36.791",
         "2018-04-01T00:04:36.364175+00:00",
         "P1",
         "6.83"
        ],
        [
         "8",
         "40",
         "SDS011",
         "7",
         "-1.298",
         "36.791",
         "2018-04-01T00:07:18.801040+00:00",
         "P2",
         "4.5"
        ],
        [
         "9",
         "40",
         "SDS011",
         "7",
         "-1.298",
         "36.791",
         "2018-04-01T00:07:18.801040+00:00",
         "P1",
         "7.87"
        ],
        [
         "10",
         "40",
         "SDS011",
         "7",
         "-1.298",
         "36.791",
         "2018-04-01T00:07:21.138782+00:00",
         "humidity",
         "65.9"
        ],
        [
         "11",
         "40",
         "SDS011",
         "7",
         "-1.298",
         "36.791",
         "2018-04-01T00:07:21.138782+00:00",
         "temperature",
         "21.1"
        ],
        [
         "12",
         "40",
         "SDS011",
         "7",
         "-1.298",
         "36.791",
         "2018-04-01T00:09:55.795526+00:00",
         "P2",
         "4.87"
        ],
        [
         "13",
         "40",
         "SDS011",
         "7",
         "-1.298",
         "36.791",
         "2018-04-01T00:09:55.795526+00:00",
         "P1",
         "11.5"
        ],
        [
         "14",
         "40",
         "SDS011",
         "7",
         "-1.298",
         "36.791",
         "2018-04-01T00:09:56.124854+00:00",
         "humidity",
         "65.9"
        ],
        [
         "15",
         "40",
         "SDS011",
         "7",
         "-1.298",
         "36.791",
         "2018-04-01T00:09:56.124854+00:00",
         "temperature",
         "21.1"
        ],
        [
         "16",
         "43",
         "SDS011",
         "20",
         "-1.253",
         "36.854",
         "2018-04-01T00:11:47.510700+00:00",
         "humidity",
         "76.9"
        ],
        [
         "17",
         "43",
         "SDS011",
         "20",
         "-1.253",
         "36.854",
         "2018-04-01T00:11:47.510700+00:00",
         "temperature",
         "19.5"
        ],
        [
         "18",
         "40",
         "SDS011",
         "7",
         "-1.298",
         "36.791",
         "2018-04-01T00:12:25.801304+00:00",
         "P2",
         "4.1"
        ],
        [
         "19",
         "40",
         "SDS011",
         "7",
         "-1.298",
         "36.791",
         "2018-04-01T00:12:25.801304+00:00",
         "P1",
         "5.7"
        ],
        [
         "20",
         "40",
         "SDS011",
         "7",
         "-1.298",
         "36.791",
         "2018-04-01T00:12:27.113078+00:00",
         "humidity",
         "65.9"
        ],
        [
         "21",
         "40",
         "SDS011",
         "7",
         "-1.298",
         "36.791",
         "2018-04-01T00:12:27.113078+00:00",
         "temperature",
         "21.1"
        ],
        [
         "22",
         "40",
         "SDS011",
         "7",
         "-1.298",
         "36.791",
         "2018-04-01T00:14:56.508821+00:00",
         "P2",
         "4.47"
        ],
        [
         "23",
         "40",
         "SDS011",
         "7",
         "-1.298",
         "36.791",
         "2018-04-01T00:14:56.508821+00:00",
         "P1",
         "7.63"
        ],
        [
         "24",
         "40",
         "SDS011",
         "7",
         "-1.298",
         "36.791",
         "2018-04-01T00:14:58.111263+00:00",
         "humidity",
         "65.9"
        ],
        [
         "25",
         "40",
         "SDS011",
         "7",
         "-1.298",
         "36.791",
         "2018-04-01T00:14:58.111263+00:00",
         "temperature",
         "21.1"
        ],
        [
         "26",
         "40",
         "SDS011",
         "7",
         "-1.298",
         "36.791",
         "2018-04-01T00:17:28.636795+00:00",
         "P2",
         "5.07"
        ],
        [
         "27",
         "40",
         "SDS011",
         "7",
         "-1.298",
         "36.791",
         "2018-04-01T00:17:28.636795+00:00",
         "P1",
         "10.8"
        ],
        [
         "28",
         "40",
         "SDS011",
         "7",
         "-1.298",
         "36.791",
         "2018-04-01T00:17:29.131357+00:00",
         "humidity",
         "65.9"
        ],
        [
         "29",
         "40",
         "SDS011",
         "7",
         "-1.298",
         "36.791",
         "2018-04-01T00:17:29.131357+00:00",
         "temperature",
         "21.1"
        ],
        [
         "30",
         "43",
         "SDS011",
         "20",
         "-1.253",
         "36.854",
         "2018-04-01T00:19:31.732521+00:00",
         "humidity",
         "75.8"
        ],
        [
         "31",
         "43",
         "SDS011",
         "20",
         "-1.253",
         "36.854",
         "2018-04-01T00:19:31.732521+00:00",
         "temperature",
         "19.5"
        ],
        [
         "32",
         "40",
         "SDS011",
         "7",
         "-1.298",
         "36.791",
         "2018-04-01T00:20:04.782013+00:00",
         "P2",
         "4.47"
        ],
        [
         "33",
         "40",
         "SDS011",
         "7",
         "-1.298",
         "36.791",
         "2018-04-01T00:20:04.782013+00:00",
         "P1",
         "7.83"
        ],
        [
         "34",
         "40",
         "SDS011",
         "7",
         "-1.298",
         "36.791",
         "2018-04-01T00:20:06.342075+00:00",
         "humidity",
         "65.9"
        ],
        [
         "35",
         "40",
         "SDS011",
         "7",
         "-1.298",
         "36.791",
         "2018-04-01T00:20:06.342075+00:00",
         "temperature",
         "21.1"
        ],
        [
         "36",
         "40",
         "SDS011",
         "7",
         "-1.298",
         "36.791",
         "2018-04-01T00:22:36.494774+00:00",
         "P2",
         "4.5"
        ],
        [
         "37",
         "40",
         "SDS011",
         "7",
         "-1.298",
         "36.791",
         "2018-04-01T00:22:36.494774+00:00",
         "P1",
         "5.47"
        ],
        [
         "38",
         "43",
         "SDS011",
         "20",
         "-1.253",
         "36.854",
         "2018-04-01T00:23:16.520771+00:00",
         "humidity",
         "76.5"
        ],
        [
         "39",
         "43",
         "SDS011",
         "20",
         "-1.253",
         "36.854",
         "2018-04-01T00:23:16.520771+00:00",
         "temperature",
         "19.5"
        ]
       ],
       "shape": {
        "columns": 8,
        "rows": 40
       }
      },
      "text/html": [
       "<div>\n",
       "<style scoped>\n",
       "    .dataframe tbody tr th:only-of-type {\n",
       "        vertical-align: middle;\n",
       "    }\n",
       "\n",
       "    .dataframe tbody tr th {\n",
       "        vertical-align: top;\n",
       "    }\n",
       "\n",
       "    .dataframe thead th {\n",
       "        text-align: right;\n",
       "    }\n",
       "</style>\n",
       "<table border=\"1\" class=\"dataframe\">\n",
       "  <thead>\n",
       "    <tr style=\"text-align: right;\">\n",
       "      <th></th>\n",
       "      <th>sensor_id</th>\n",
       "      <th>sensor_type</th>\n",
       "      <th>location</th>\n",
       "      <th>lat</th>\n",
       "      <th>lon</th>\n",
       "      <th>timestamp</th>\n",
       "      <th>value_type</th>\n",
       "      <th>value</th>\n",
       "    </tr>\n",
       "  </thead>\n",
       "  <tbody>\n",
       "    <tr>\n",
       "      <th>0</th>\n",
       "      <td>40</td>\n",
       "      <td>SDS011</td>\n",
       "      <td>7</td>\n",
       "      <td>-1.298</td>\n",
       "      <td>36.791</td>\n",
       "      <td>2018-04-01T00:02:07.071983+00:00</td>\n",
       "      <td>humidity</td>\n",
       "      <td>65.80</td>\n",
       "    </tr>\n",
       "    <tr>\n",
       "      <th>1</th>\n",
       "      <td>40</td>\n",
       "      <td>SDS011</td>\n",
       "      <td>7</td>\n",
       "      <td>-1.298</td>\n",
       "      <td>36.791</td>\n",
       "      <td>2018-04-01T00:02:07.071983+00:00</td>\n",
       "      <td>temperature</td>\n",
       "      <td>21.10</td>\n",
       "    </tr>\n",
       "    <tr>\n",
       "      <th>2</th>\n",
       "      <td>40</td>\n",
       "      <td>SDS011</td>\n",
       "      <td>7</td>\n",
       "      <td>-1.298</td>\n",
       "      <td>36.791</td>\n",
       "      <td>2018-04-01T00:02:07.111462+00:00</td>\n",
       "      <td>P2</td>\n",
       "      <td>4.40</td>\n",
       "    </tr>\n",
       "    <tr>\n",
       "      <th>3</th>\n",
       "      <td>40</td>\n",
       "      <td>SDS011</td>\n",
       "      <td>7</td>\n",
       "      <td>-1.298</td>\n",
       "      <td>36.791</td>\n",
       "      <td>2018-04-01T00:02:07.111462+00:00</td>\n",
       "      <td>P1</td>\n",
       "      <td>7.80</td>\n",
       "    </tr>\n",
       "    <tr>\n",
       "      <th>4</th>\n",
       "      <td>43</td>\n",
       "      <td>SDS011</td>\n",
       "      <td>20</td>\n",
       "      <td>-1.253</td>\n",
       "      <td>36.854</td>\n",
       "      <td>2018-04-01T00:03:56.860816+00:00</td>\n",
       "      <td>humidity</td>\n",
       "      <td>76.30</td>\n",
       "    </tr>\n",
       "    <tr>\n",
       "      <th>5</th>\n",
       "      <td>43</td>\n",
       "      <td>SDS011</td>\n",
       "      <td>20</td>\n",
       "      <td>-1.253</td>\n",
       "      <td>36.854</td>\n",
       "      <td>2018-04-01T00:03:56.860816+00:00</td>\n",
       "      <td>temperature</td>\n",
       "      <td>19.50</td>\n",
       "    </tr>\n",
       "    <tr>\n",
       "      <th>6</th>\n",
       "      <td>40</td>\n",
       "      <td>SDS011</td>\n",
       "      <td>7</td>\n",
       "      <td>-1.298</td>\n",
       "      <td>36.791</td>\n",
       "      <td>2018-04-01T00:04:36.364175+00:00</td>\n",
       "      <td>P2</td>\n",
       "      <td>4.43</td>\n",
       "    </tr>\n",
       "    <tr>\n",
       "      <th>7</th>\n",
       "      <td>40</td>\n",
       "      <td>SDS011</td>\n",
       "      <td>7</td>\n",
       "      <td>-1.298</td>\n",
       "      <td>36.791</td>\n",
       "      <td>2018-04-01T00:04:36.364175+00:00</td>\n",
       "      <td>P1</td>\n",
       "      <td>6.83</td>\n",
       "    </tr>\n",
       "    <tr>\n",
       "      <th>8</th>\n",
       "      <td>40</td>\n",
       "      <td>SDS011</td>\n",
       "      <td>7</td>\n",
       "      <td>-1.298</td>\n",
       "      <td>36.791</td>\n",
       "      <td>2018-04-01T00:07:18.801040+00:00</td>\n",
       "      <td>P2</td>\n",
       "      <td>4.50</td>\n",
       "    </tr>\n",
       "    <tr>\n",
       "      <th>9</th>\n",
       "      <td>40</td>\n",
       "      <td>SDS011</td>\n",
       "      <td>7</td>\n",
       "      <td>-1.298</td>\n",
       "      <td>36.791</td>\n",
       "      <td>2018-04-01T00:07:18.801040+00:00</td>\n",
       "      <td>P1</td>\n",
       "      <td>7.87</td>\n",
       "    </tr>\n",
       "    <tr>\n",
       "      <th>10</th>\n",
       "      <td>40</td>\n",
       "      <td>SDS011</td>\n",
       "      <td>7</td>\n",
       "      <td>-1.298</td>\n",
       "      <td>36.791</td>\n",
       "      <td>2018-04-01T00:07:21.138782+00:00</td>\n",
       "      <td>humidity</td>\n",
       "      <td>65.90</td>\n",
       "    </tr>\n",
       "    <tr>\n",
       "      <th>11</th>\n",
       "      <td>40</td>\n",
       "      <td>SDS011</td>\n",
       "      <td>7</td>\n",
       "      <td>-1.298</td>\n",
       "      <td>36.791</td>\n",
       "      <td>2018-04-01T00:07:21.138782+00:00</td>\n",
       "      <td>temperature</td>\n",
       "      <td>21.10</td>\n",
       "    </tr>\n",
       "    <tr>\n",
       "      <th>12</th>\n",
       "      <td>40</td>\n",
       "      <td>SDS011</td>\n",
       "      <td>7</td>\n",
       "      <td>-1.298</td>\n",
       "      <td>36.791</td>\n",
       "      <td>2018-04-01T00:09:55.795526+00:00</td>\n",
       "      <td>P2</td>\n",
       "      <td>4.87</td>\n",
       "    </tr>\n",
       "    <tr>\n",
       "      <th>13</th>\n",
       "      <td>40</td>\n",
       "      <td>SDS011</td>\n",
       "      <td>7</td>\n",
       "      <td>-1.298</td>\n",
       "      <td>36.791</td>\n",
       "      <td>2018-04-01T00:09:55.795526+00:00</td>\n",
       "      <td>P1</td>\n",
       "      <td>11.50</td>\n",
       "    </tr>\n",
       "    <tr>\n",
       "      <th>14</th>\n",
       "      <td>40</td>\n",
       "      <td>SDS011</td>\n",
       "      <td>7</td>\n",
       "      <td>-1.298</td>\n",
       "      <td>36.791</td>\n",
       "      <td>2018-04-01T00:09:56.124854+00:00</td>\n",
       "      <td>humidity</td>\n",
       "      <td>65.90</td>\n",
       "    </tr>\n",
       "    <tr>\n",
       "      <th>15</th>\n",
       "      <td>40</td>\n",
       "      <td>SDS011</td>\n",
       "      <td>7</td>\n",
       "      <td>-1.298</td>\n",
       "      <td>36.791</td>\n",
       "      <td>2018-04-01T00:09:56.124854+00:00</td>\n",
       "      <td>temperature</td>\n",
       "      <td>21.10</td>\n",
       "    </tr>\n",
       "    <tr>\n",
       "      <th>16</th>\n",
       "      <td>43</td>\n",
       "      <td>SDS011</td>\n",
       "      <td>20</td>\n",
       "      <td>-1.253</td>\n",
       "      <td>36.854</td>\n",
       "      <td>2018-04-01T00:11:47.510700+00:00</td>\n",
       "      <td>humidity</td>\n",
       "      <td>76.90</td>\n",
       "    </tr>\n",
       "    <tr>\n",
       "      <th>17</th>\n",
       "      <td>43</td>\n",
       "      <td>SDS011</td>\n",
       "      <td>20</td>\n",
       "      <td>-1.253</td>\n",
       "      <td>36.854</td>\n",
       "      <td>2018-04-01T00:11:47.510700+00:00</td>\n",
       "      <td>temperature</td>\n",
       "      <td>19.50</td>\n",
       "    </tr>\n",
       "    <tr>\n",
       "      <th>18</th>\n",
       "      <td>40</td>\n",
       "      <td>SDS011</td>\n",
       "      <td>7</td>\n",
       "      <td>-1.298</td>\n",
       "      <td>36.791</td>\n",
       "      <td>2018-04-01T00:12:25.801304+00:00</td>\n",
       "      <td>P2</td>\n",
       "      <td>4.10</td>\n",
       "    </tr>\n",
       "    <tr>\n",
       "      <th>19</th>\n",
       "      <td>40</td>\n",
       "      <td>SDS011</td>\n",
       "      <td>7</td>\n",
       "      <td>-1.298</td>\n",
       "      <td>36.791</td>\n",
       "      <td>2018-04-01T00:12:25.801304+00:00</td>\n",
       "      <td>P1</td>\n",
       "      <td>5.70</td>\n",
       "    </tr>\n",
       "    <tr>\n",
       "      <th>20</th>\n",
       "      <td>40</td>\n",
       "      <td>SDS011</td>\n",
       "      <td>7</td>\n",
       "      <td>-1.298</td>\n",
       "      <td>36.791</td>\n",
       "      <td>2018-04-01T00:12:27.113078+00:00</td>\n",
       "      <td>humidity</td>\n",
       "      <td>65.90</td>\n",
       "    </tr>\n",
       "    <tr>\n",
       "      <th>21</th>\n",
       "      <td>40</td>\n",
       "      <td>SDS011</td>\n",
       "      <td>7</td>\n",
       "      <td>-1.298</td>\n",
       "      <td>36.791</td>\n",
       "      <td>2018-04-01T00:12:27.113078+00:00</td>\n",
       "      <td>temperature</td>\n",
       "      <td>21.10</td>\n",
       "    </tr>\n",
       "    <tr>\n",
       "      <th>22</th>\n",
       "      <td>40</td>\n",
       "      <td>SDS011</td>\n",
       "      <td>7</td>\n",
       "      <td>-1.298</td>\n",
       "      <td>36.791</td>\n",
       "      <td>2018-04-01T00:14:56.508821+00:00</td>\n",
       "      <td>P2</td>\n",
       "      <td>4.47</td>\n",
       "    </tr>\n",
       "    <tr>\n",
       "      <th>23</th>\n",
       "      <td>40</td>\n",
       "      <td>SDS011</td>\n",
       "      <td>7</td>\n",
       "      <td>-1.298</td>\n",
       "      <td>36.791</td>\n",
       "      <td>2018-04-01T00:14:56.508821+00:00</td>\n",
       "      <td>P1</td>\n",
       "      <td>7.63</td>\n",
       "    </tr>\n",
       "    <tr>\n",
       "      <th>24</th>\n",
       "      <td>40</td>\n",
       "      <td>SDS011</td>\n",
       "      <td>7</td>\n",
       "      <td>-1.298</td>\n",
       "      <td>36.791</td>\n",
       "      <td>2018-04-01T00:14:58.111263+00:00</td>\n",
       "      <td>humidity</td>\n",
       "      <td>65.90</td>\n",
       "    </tr>\n",
       "    <tr>\n",
       "      <th>25</th>\n",
       "      <td>40</td>\n",
       "      <td>SDS011</td>\n",
       "      <td>7</td>\n",
       "      <td>-1.298</td>\n",
       "      <td>36.791</td>\n",
       "      <td>2018-04-01T00:14:58.111263+00:00</td>\n",
       "      <td>temperature</td>\n",
       "      <td>21.10</td>\n",
       "    </tr>\n",
       "    <tr>\n",
       "      <th>26</th>\n",
       "      <td>40</td>\n",
       "      <td>SDS011</td>\n",
       "      <td>7</td>\n",
       "      <td>-1.298</td>\n",
       "      <td>36.791</td>\n",
       "      <td>2018-04-01T00:17:28.636795+00:00</td>\n",
       "      <td>P2</td>\n",
       "      <td>5.07</td>\n",
       "    </tr>\n",
       "    <tr>\n",
       "      <th>27</th>\n",
       "      <td>40</td>\n",
       "      <td>SDS011</td>\n",
       "      <td>7</td>\n",
       "      <td>-1.298</td>\n",
       "      <td>36.791</td>\n",
       "      <td>2018-04-01T00:17:28.636795+00:00</td>\n",
       "      <td>P1</td>\n",
       "      <td>10.80</td>\n",
       "    </tr>\n",
       "    <tr>\n",
       "      <th>28</th>\n",
       "      <td>40</td>\n",
       "      <td>SDS011</td>\n",
       "      <td>7</td>\n",
       "      <td>-1.298</td>\n",
       "      <td>36.791</td>\n",
       "      <td>2018-04-01T00:17:29.131357+00:00</td>\n",
       "      <td>humidity</td>\n",
       "      <td>65.90</td>\n",
       "    </tr>\n",
       "    <tr>\n",
       "      <th>29</th>\n",
       "      <td>40</td>\n",
       "      <td>SDS011</td>\n",
       "      <td>7</td>\n",
       "      <td>-1.298</td>\n",
       "      <td>36.791</td>\n",
       "      <td>2018-04-01T00:17:29.131357+00:00</td>\n",
       "      <td>temperature</td>\n",
       "      <td>21.10</td>\n",
       "    </tr>\n",
       "    <tr>\n",
       "      <th>30</th>\n",
       "      <td>43</td>\n",
       "      <td>SDS011</td>\n",
       "      <td>20</td>\n",
       "      <td>-1.253</td>\n",
       "      <td>36.854</td>\n",
       "      <td>2018-04-01T00:19:31.732521+00:00</td>\n",
       "      <td>humidity</td>\n",
       "      <td>75.80</td>\n",
       "    </tr>\n",
       "    <tr>\n",
       "      <th>31</th>\n",
       "      <td>43</td>\n",
       "      <td>SDS011</td>\n",
       "      <td>20</td>\n",
       "      <td>-1.253</td>\n",
       "      <td>36.854</td>\n",
       "      <td>2018-04-01T00:19:31.732521+00:00</td>\n",
       "      <td>temperature</td>\n",
       "      <td>19.50</td>\n",
       "    </tr>\n",
       "    <tr>\n",
       "      <th>32</th>\n",
       "      <td>40</td>\n",
       "      <td>SDS011</td>\n",
       "      <td>7</td>\n",
       "      <td>-1.298</td>\n",
       "      <td>36.791</td>\n",
       "      <td>2018-04-01T00:20:04.782013+00:00</td>\n",
       "      <td>P2</td>\n",
       "      <td>4.47</td>\n",
       "    </tr>\n",
       "    <tr>\n",
       "      <th>33</th>\n",
       "      <td>40</td>\n",
       "      <td>SDS011</td>\n",
       "      <td>7</td>\n",
       "      <td>-1.298</td>\n",
       "      <td>36.791</td>\n",
       "      <td>2018-04-01T00:20:04.782013+00:00</td>\n",
       "      <td>P1</td>\n",
       "      <td>7.83</td>\n",
       "    </tr>\n",
       "    <tr>\n",
       "      <th>34</th>\n",
       "      <td>40</td>\n",
       "      <td>SDS011</td>\n",
       "      <td>7</td>\n",
       "      <td>-1.298</td>\n",
       "      <td>36.791</td>\n",
       "      <td>2018-04-01T00:20:06.342075+00:00</td>\n",
       "      <td>humidity</td>\n",
       "      <td>65.90</td>\n",
       "    </tr>\n",
       "    <tr>\n",
       "      <th>35</th>\n",
       "      <td>40</td>\n",
       "      <td>SDS011</td>\n",
       "      <td>7</td>\n",
       "      <td>-1.298</td>\n",
       "      <td>36.791</td>\n",
       "      <td>2018-04-01T00:20:06.342075+00:00</td>\n",
       "      <td>temperature</td>\n",
       "      <td>21.10</td>\n",
       "    </tr>\n",
       "    <tr>\n",
       "      <th>36</th>\n",
       "      <td>40</td>\n",
       "      <td>SDS011</td>\n",
       "      <td>7</td>\n",
       "      <td>-1.298</td>\n",
       "      <td>36.791</td>\n",
       "      <td>2018-04-01T00:22:36.494774+00:00</td>\n",
       "      <td>P2</td>\n",
       "      <td>4.50</td>\n",
       "    </tr>\n",
       "    <tr>\n",
       "      <th>37</th>\n",
       "      <td>40</td>\n",
       "      <td>SDS011</td>\n",
       "      <td>7</td>\n",
       "      <td>-1.298</td>\n",
       "      <td>36.791</td>\n",
       "      <td>2018-04-01T00:22:36.494774+00:00</td>\n",
       "      <td>P1</td>\n",
       "      <td>5.47</td>\n",
       "    </tr>\n",
       "    <tr>\n",
       "      <th>38</th>\n",
       "      <td>43</td>\n",
       "      <td>SDS011</td>\n",
       "      <td>20</td>\n",
       "      <td>-1.253</td>\n",
       "      <td>36.854</td>\n",
       "      <td>2018-04-01T00:23:16.520771+00:00</td>\n",
       "      <td>humidity</td>\n",
       "      <td>76.50</td>\n",
       "    </tr>\n",
       "    <tr>\n",
       "      <th>39</th>\n",
       "      <td>43</td>\n",
       "      <td>SDS011</td>\n",
       "      <td>20</td>\n",
       "      <td>-1.253</td>\n",
       "      <td>36.854</td>\n",
       "      <td>2018-04-01T00:23:16.520771+00:00</td>\n",
       "      <td>temperature</td>\n",
       "      <td>19.50</td>\n",
       "    </tr>\n",
       "  </tbody>\n",
       "</table>\n",
       "</div>"
      ],
      "text/plain": [
       "    sensor_id sensor_type  location    lat     lon  \\\n",
       "0          40      SDS011         7 -1.298  36.791   \n",
       "1          40      SDS011         7 -1.298  36.791   \n",
       "2          40      SDS011         7 -1.298  36.791   \n",
       "3          40      SDS011         7 -1.298  36.791   \n",
       "4          43      SDS011        20 -1.253  36.854   \n",
       "5          43      SDS011        20 -1.253  36.854   \n",
       "6          40      SDS011         7 -1.298  36.791   \n",
       "7          40      SDS011         7 -1.298  36.791   \n",
       "8          40      SDS011         7 -1.298  36.791   \n",
       "9          40      SDS011         7 -1.298  36.791   \n",
       "10         40      SDS011         7 -1.298  36.791   \n",
       "11         40      SDS011         7 -1.298  36.791   \n",
       "12         40      SDS011         7 -1.298  36.791   \n",
       "13         40      SDS011         7 -1.298  36.791   \n",
       "14         40      SDS011         7 -1.298  36.791   \n",
       "15         40      SDS011         7 -1.298  36.791   \n",
       "16         43      SDS011        20 -1.253  36.854   \n",
       "17         43      SDS011        20 -1.253  36.854   \n",
       "18         40      SDS011         7 -1.298  36.791   \n",
       "19         40      SDS011         7 -1.298  36.791   \n",
       "20         40      SDS011         7 -1.298  36.791   \n",
       "21         40      SDS011         7 -1.298  36.791   \n",
       "22         40      SDS011         7 -1.298  36.791   \n",
       "23         40      SDS011         7 -1.298  36.791   \n",
       "24         40      SDS011         7 -1.298  36.791   \n",
       "25         40      SDS011         7 -1.298  36.791   \n",
       "26         40      SDS011         7 -1.298  36.791   \n",
       "27         40      SDS011         7 -1.298  36.791   \n",
       "28         40      SDS011         7 -1.298  36.791   \n",
       "29         40      SDS011         7 -1.298  36.791   \n",
       "30         43      SDS011        20 -1.253  36.854   \n",
       "31         43      SDS011        20 -1.253  36.854   \n",
       "32         40      SDS011         7 -1.298  36.791   \n",
       "33         40      SDS011         7 -1.298  36.791   \n",
       "34         40      SDS011         7 -1.298  36.791   \n",
       "35         40      SDS011         7 -1.298  36.791   \n",
       "36         40      SDS011         7 -1.298  36.791   \n",
       "37         40      SDS011         7 -1.298  36.791   \n",
       "38         43      SDS011        20 -1.253  36.854   \n",
       "39         43      SDS011        20 -1.253  36.854   \n",
       "\n",
       "                           timestamp   value_type  value  \n",
       "0   2018-04-01T00:02:07.071983+00:00     humidity  65.80  \n",
       "1   2018-04-01T00:02:07.071983+00:00  temperature  21.10  \n",
       "2   2018-04-01T00:02:07.111462+00:00           P2   4.40  \n",
       "3   2018-04-01T00:02:07.111462+00:00           P1   7.80  \n",
       "4   2018-04-01T00:03:56.860816+00:00     humidity  76.30  \n",
       "5   2018-04-01T00:03:56.860816+00:00  temperature  19.50  \n",
       "6   2018-04-01T00:04:36.364175+00:00           P2   4.43  \n",
       "7   2018-04-01T00:04:36.364175+00:00           P1   6.83  \n",
       "8   2018-04-01T00:07:18.801040+00:00           P2   4.50  \n",
       "9   2018-04-01T00:07:18.801040+00:00           P1   7.87  \n",
       "10  2018-04-01T00:07:21.138782+00:00     humidity  65.90  \n",
       "11  2018-04-01T00:07:21.138782+00:00  temperature  21.10  \n",
       "12  2018-04-01T00:09:55.795526+00:00           P2   4.87  \n",
       "13  2018-04-01T00:09:55.795526+00:00           P1  11.50  \n",
       "14  2018-04-01T00:09:56.124854+00:00     humidity  65.90  \n",
       "15  2018-04-01T00:09:56.124854+00:00  temperature  21.10  \n",
       "16  2018-04-01T00:11:47.510700+00:00     humidity  76.90  \n",
       "17  2018-04-01T00:11:47.510700+00:00  temperature  19.50  \n",
       "18  2018-04-01T00:12:25.801304+00:00           P2   4.10  \n",
       "19  2018-04-01T00:12:25.801304+00:00           P1   5.70  \n",
       "20  2018-04-01T00:12:27.113078+00:00     humidity  65.90  \n",
       "21  2018-04-01T00:12:27.113078+00:00  temperature  21.10  \n",
       "22  2018-04-01T00:14:56.508821+00:00           P2   4.47  \n",
       "23  2018-04-01T00:14:56.508821+00:00           P1   7.63  \n",
       "24  2018-04-01T00:14:58.111263+00:00     humidity  65.90  \n",
       "25  2018-04-01T00:14:58.111263+00:00  temperature  21.10  \n",
       "26  2018-04-01T00:17:28.636795+00:00           P2   5.07  \n",
       "27  2018-04-01T00:17:28.636795+00:00           P1  10.80  \n",
       "28  2018-04-01T00:17:29.131357+00:00     humidity  65.90  \n",
       "29  2018-04-01T00:17:29.131357+00:00  temperature  21.10  \n",
       "30  2018-04-01T00:19:31.732521+00:00     humidity  75.80  \n",
       "31  2018-04-01T00:19:31.732521+00:00  temperature  19.50  \n",
       "32  2018-04-01T00:20:04.782013+00:00           P2   4.47  \n",
       "33  2018-04-01T00:20:04.782013+00:00           P1   7.83  \n",
       "34  2018-04-01T00:20:06.342075+00:00     humidity  65.90  \n",
       "35  2018-04-01T00:20:06.342075+00:00  temperature  21.10  \n",
       "36  2018-04-01T00:22:36.494774+00:00           P2   4.50  \n",
       "37  2018-04-01T00:22:36.494774+00:00           P1   5.47  \n",
       "38  2018-04-01T00:23:16.520771+00:00     humidity  76.50  \n",
       "39  2018-04-01T00:23:16.520771+00:00  temperature  19.50  "
      ]
     },
     "execution_count": 13,
     "metadata": {},
     "output_type": "execute_result"
    }
   ],
   "source": [
    "df = pd.read_csv(r'C:\\Users\\USER\\Desktop\\PROJECTS\\air- quality in nairobi.csv', sep=';')\n",
    "print(df.shape)\n",
    "df.head(40)\n"
   ]
  },
  {
   "cell_type": "markdown",
   "id": "c6c91d28",
   "metadata": {},
   "source": [
    "**HOW MANY TIMES EACH SENSOR WAS USED IN THE DATA**"
   ]
  },
  {
   "cell_type": "code",
   "execution_count": 3,
   "id": "23719d24",
   "metadata": {},
   "outputs": [
    {
     "data": {
      "image/png": "[encoded data removed]",
      "text/plain": [
       "<Figure size 1200x600 with 1 Axes>"
      ]
     },
     "metadata": {},
     "output_type": "display_data"
    }
   ],
   "source": [
    "plt.figure(figsize=(12, 6))\n",
    "graph = sns.countplot(x='sensor_type', data = df, order = df['sensor_type'].value_counts().index)\n",
    "for x in graph.containers:\n",
    "    graph.bar_label(x)\n",
    "plt.show()\n"
   ]
  },
  {
   "cell_type": "markdown",
   "id": "bfd2eac3",
   "metadata": {},
   "source": [
    "**COUNT OF TESTING CARRIED OUT IN EACH LOCATION**"
   ]
  },
  {
   "cell_type": "code",
   "execution_count": 4,
   "id": "bf8eed8b",
   "metadata": {},
   "outputs": [
    {
     "data": {
      "image/png": "[encoded data removed]",
      "text/plain": [
       "<Figure size 1200x600 with 1 Axes>"
      ]
     },
     "metadata": {},
     "output_type": "display_data"
    }
   ],
   "source": [
    "plt.figure(figsize=(12, 6))\n",
    "graph = sns.countplot(x='location', data = df, order = df['location'].value_counts().index)\n",
    "for x in graph.containers:\n",
    "    graph.bar_label(x)\n",
    "plt.show()\n"
   ]
  },
  {
   "cell_type": "markdown",
   "id": "47a7a3d9",
   "metadata": {},
   "source": [
    "**COUNT OF EACH TEST CARRIED OUT**"
   ]
  },
  {
   "cell_type": "code",
   "execution_count": 5,
   "id": "b62d2279",
   "metadata": {},
   "outputs": [
    {
     "data": {
      "image/png": "[encoded data removed]",
      "text/plain": [
       "<Figure size 1200x600 with 1 Axes>"
      ]
     },
     "metadata": {},
     "output_type": "display_data"
    }
   ],
   "source": [
    "plt.figure(figsize=(12, 6))\n",
    "graph = sns.countplot(x='value_type', data = df, order = df['value_type'].value_counts().index)\n",
    "for x in graph.containers:\n",
    "    graph.bar_label(x)\n",
    "plt.show()\n"
   ]
  },
  {
   "cell_type": "markdown",
   "id": "49cfdb29",
   "metadata": {},
   "source": [
    "**WRANGLE FUNCTION OF ALL THE CHANGES MADE IN THE DATA**"
   ]
  },
  {
   "cell_type": "code",
   "execution_count": 32,
   "id": "f8b2075a",
   "metadata": {},
   "outputs": [],
   "source": [
    "def wrangle(filepath, sep):\n",
    "    df = pd.read_csv(filepath, sep=';')\n",
    "\n",
    "# we will be working with the location with the most data [location 7] and measurement of [P2]\n",
    "    df = df[df['location'] == 7][df['value_type'] == 'P2']\n",
    "\n",
    "# we will be working with only timestamp and p2 values\n",
    "    df = df.pivot_table(index='timestamp', columns='value_type', values = 'value')\n",
    "\n",
    "\n",
    "# converting the timestamp into a datetime dtype\n",
    "    df.reset_index(inplace=True)\n",
    "    df['timestamp'] = pd.to_datetime(df['timestamp'], errors='coerce')   \n",
    "\n",
    "\n",
    "# converting the timestamp to africa/nairobi time zone\n",
    "    df.set_index('timestamp', inplace=True)\n",
    "    df.index = df.index.tz_convert('Africa/Nairobi')\n",
    "\n",
    "# resampling the data to 1hour intervals and illing the null values with forward fill\n",
    "    df = df['P2'].resample('1H').mean().fillna(method='ffill').to_frame()\n",
    "\n",
    "# creating a new column as our predictor variable [Time Lag 1]\n",
    "    df['P2.L1'] = df['P2'].shift(1)\n",
    "\n",
    "# dropping the null values\n",
    "    df.dropna(inplace=True)\n",
    "    return df\n"
   ]
  },
  {
   "cell_type": "markdown",
   "id": "9fee1601",
   "metadata": {},
   "source": [
    "**VIEWING OUR DATA**"
   ]
  },
  {
   "cell_type": "code",
   "execution_count": 33,
   "id": "ed9cd53d",
   "metadata": {},
   "outputs": [
    {
     "name": "stdout",
     "output_type": "stream",
     "text": [
      "(719, 2)\n"
     ]
    },
    {
     "name": "stderr",
     "output_type": "stream",
     "text": [
      "C:\\Users\\USER\\AppData\\Local\\Temp\\ipykernel_6724\\3439926712.py:5: UserWarning: Boolean Series key will be reindexed to match DataFrame index.\n",
      "  df = df[df['location'] == 7][df['value_type'] == 'P2']\n",
      "C:\\Users\\USER\\AppData\\Local\\Temp\\ipykernel_6724\\3439926712.py:21: FutureWarning: 'H' is deprecated and will be removed in a future version, please use 'h' instead.\n",
      "  df = df['P2'].resample('1H').mean().fillna(method='ffill').to_frame()\n",
      "C:\\Users\\USER\\AppData\\Local\\Temp\\ipykernel_6724\\3439926712.py:21: FutureWarning: Series.fillna with 'method' is deprecated and will raise in a future version. Use obj.ffill() or obj.bfill() instead.\n",
      "  df = df['P2'].resample('1H').mean().fillna(method='ffill').to_frame()\n"
     ]
    },
    {
     "data": {
      "application/vnd.microsoft.datawrangler.viewer.v0+json": {
       "columns": [
        {
         "name": "timestamp",
         "rawType": "datetime64[ns, Africa/Nairobi]",
         "type": "unknown"
        },
        {
         "name": "P2",
         "rawType": "float64",
         "type": "float"
        },
        {
         "name": "P2.L1",
         "rawType": "float64",
         "type": "float"
        }
       ],
       "conversionMethod": "pd.DataFrame",
       "ref": "282996d2-11ab-4677-ae8c-fee185d613c8",
       "rows": [
        [
         "2018-04-01 04:00:00+03:00",
         "4.125",
         "4.3104545454545455"
        ],
        [
         "2018-04-01 05:00:00+03:00",
         "4.057272727272728",
         "4.125"
        ],
        [
         "2018-04-01 06:00:00+03:00",
         "4.027222222222223",
         "4.057272727272728"
        ],
        [
         "2018-04-01 07:00:00+03:00",
         "3.7313636363636364",
         "4.027222222222223"
        ],
        [
         "2018-04-01 08:00:00+03:00",
         "3.808",
         "3.7313636363636364"
        ],
        [
         "2018-04-01 09:00:00+03:00",
         "3.5766666666666667",
         "3.808"
        ],
        [
         "2018-04-01 10:00:00+03:00",
         "4.022173913043479",
         "3.5766666666666667"
        ],
        [
         "2018-04-01 11:00:00+03:00",
         "5.486315789473684",
         "4.022173913043479"
        ],
        [
         "2018-04-01 12:00:00+03:00",
         "4.97304347826087",
         "5.486315789473684"
        ],
        [
         "2018-04-01 13:00:00+03:00",
         "4.814117647058824",
         "4.97304347826087"
        ],
        [
         "2018-04-01 14:00:00+03:00",
         "3.915238095238095",
         "4.814117647058824"
        ],
        [
         "2018-04-01 15:00:00+03:00",
         "3.8366666666666664",
         "3.915238095238095"
        ],
        [
         "2018-04-01 16:00:00+03:00",
         "4.0195454545454545",
         "3.8366666666666664"
        ],
        [
         "2018-04-01 17:00:00+03:00",
         "3.7950000000000004",
         "4.0195454545454545"
        ],
        [
         "2018-04-01 18:00:00+03:00",
         "3.787619047619048",
         "3.7950000000000004"
        ],
        [
         "2018-04-01 19:00:00+03:00",
         "4.203333333333333",
         "3.787619047619048"
        ],
        [
         "2018-04-01 20:00:00+03:00",
         "4.2405",
         "4.203333333333333"
        ],
        [
         "2018-04-01 21:00:00+03:00",
         "3.6433333333333335",
         "4.2405"
        ],
        [
         "2018-04-01 22:00:00+03:00",
         "3.6433333333333335",
         "3.6433333333333335"
        ],
        [
         "2018-04-01 23:00:00+03:00",
         "2.834285714285714",
         "3.6433333333333335"
        ],
        [
         "2018-04-02 00:00:00+03:00",
         "2.793",
         "2.834285714285714"
        ],
        [
         "2018-04-02 01:00:00+03:00",
         "2.793",
         "2.793"
        ],
        [
         "2018-04-02 02:00:00+03:00",
         "2.578333333333333",
         "2.793"
        ],
        [
         "2018-04-02 03:00:00+03:00",
         "2.8",
         "2.578333333333333"
        ],
        [
         "2018-04-02 04:00:00+03:00",
         "2.7585714285714285",
         "2.8"
        ],
        [
         "2018-04-02 05:00:00+03:00",
         "3.1870000000000003",
         "2.7585714285714285"
        ],
        [
         "2018-04-02 06:00:00+03:00",
         "3.6333333333333333",
         "3.1870000000000003"
        ],
        [
         "2018-04-02 07:00:00+03:00",
         "4.214545454545455",
         "3.6333333333333333"
        ],
        [
         "2018-04-02 08:00:00+03:00",
         "4.281428571428571",
         "4.214545454545455"
        ],
        [
         "2018-04-02 09:00:00+03:00",
         "3.4099999999999997",
         "4.281428571428571"
        ],
        [
         "2018-04-02 10:00:00+03:00",
         "3.071363636363636",
         "3.4099999999999997"
        ],
        [
         "2018-04-02 11:00:00+03:00",
         "3.4583333333333335",
         "3.071363636363636"
        ],
        [
         "2018-04-02 12:00:00+03:00",
         "4.015454545454546",
         "3.4583333333333335"
        ],
        [
         "2018-04-02 13:00:00+03:00",
         "3.76",
         "4.015454545454546"
        ],
        [
         "2018-04-02 14:00:00+03:00",
         "3.7495238095238093",
         "3.76"
        ],
        [
         "2018-04-02 15:00:00+03:00",
         "3.3575",
         "3.7495238095238093"
        ],
        [
         "2018-04-02 16:00:00+03:00",
         "3.4857142857142858",
         "3.3575"
        ],
        [
         "2018-04-02 17:00:00+03:00",
         "3.6850000000000005",
         "3.4857142857142858"
        ],
        [
         "2018-04-02 18:00:00+03:00",
         "4.5355",
         "3.6850000000000005"
        ],
        [
         "2018-04-02 19:00:00+03:00",
         "4.77",
         "4.5355"
        ]
       ],
       "shape": {
        "columns": 2,
        "rows": 40
       }
      },
      "text/html": [
       "<div>\n",
       "<style scoped>\n",
       "    .dataframe tbody tr th:only-of-type {\n",
       "        vertical-align: middle;\n",
       "    }\n",
       "\n",
       "    .dataframe tbody tr th {\n",
       "        vertical-align: top;\n",
       "    }\n",
       "\n",
       "    .dataframe thead th {\n",
       "        text-align: right;\n",
       "    }\n",
       "</style>\n",
       "<table border=\"1\" class=\"dataframe\">\n",
       "  <thead>\n",
       "    <tr style=\"text-align: right;\">\n",
       "      <th></th>\n",
       "      <th>P2</th>\n",
       "      <th>P2.L1</th>\n",
       "    </tr>\n",
       "    <tr>\n",
       "      <th>timestamp</th>\n",
       "      <th></th>\n",
       "      <th></th>\n",
       "    </tr>\n",
       "  </thead>\n",
       "  <tbody>\n",
       "    <tr>\n",
       "      <th>2018-04-01 04:00:00+03:00</th>\n",
       "      <td>4.125000</td>\n",
       "      <td>4.310455</td>\n",
       "    </tr>\n",
       "    <tr>\n",
       "      <th>2018-04-01 05:00:00+03:00</th>\n",
       "      <td>4.057273</td>\n",
       "      <td>4.125000</td>\n",
       "    </tr>\n",
       "    <tr>\n",
       "      <th>2018-04-01 06:00:00+03:00</th>\n",
       "      <td>4.027222</td>\n",
       "      <td>4.057273</td>\n",
       "    </tr>\n",
       "    <tr>\n",
       "      <th>2018-04-01 07:00:00+03:00</th>\n",
       "      <td>3.731364</td>\n",
       "      <td>4.027222</td>\n",
       "    </tr>\n",
       "    <tr>\n",
       "      <th>2018-04-01 08:00:00+03:00</th>\n",
       "      <td>3.808000</td>\n",
       "      <td>3.731364</td>\n",
       "    </tr>\n",
       "    <tr>\n",
       "      <th>2018-04-01 09:00:00+03:00</th>\n",
       "      <td>3.576667</td>\n",
       "      <td>3.808000</td>\n",
       "    </tr>\n",
       "    <tr>\n",
       "      <th>2018-04-01 10:00:00+03:00</th>\n",
       "      <td>4.022174</td>\n",
       "      <td>3.576667</td>\n",
       "    </tr>\n",
       "    <tr>\n",
       "      <th>2018-04-01 11:00:00+03:00</th>\n",
       "      <td>5.486316</td>\n",
       "      <td>4.022174</td>\n",
       "    </tr>\n",
       "    <tr>\n",
       "      <th>2018-04-01 12:00:00+03:00</th>\n",
       "      <td>4.973043</td>\n",
       "      <td>5.486316</td>\n",
       "    </tr>\n",
       "    <tr>\n",
       "      <th>2018-04-01 13:00:00+03:00</th>\n",
       "      <td>4.814118</td>\n",
       "      <td>4.973043</td>\n",
       "    </tr>\n",
       "    <tr>\n",
       "      <th>2018-04-01 14:00:00+03:00</th>\n",
       "      <td>3.915238</td>\n",
       "      <td>4.814118</td>\n",
       "    </tr>\n",
       "    <tr>\n",
       "      <th>2018-04-01 15:00:00+03:00</th>\n",
       "      <td>3.836667</td>\n",
       "      <td>3.915238</td>\n",
       "    </tr>\n",
       "    <tr>\n",
       "      <th>2018-04-01 16:00:00+03:00</th>\n",
       "      <td>4.019545</td>\n",
       "      <td>3.836667</td>\n",
       "    </tr>\n",
       "    <tr>\n",
       "      <th>2018-04-01 17:00:00+03:00</th>\n",
       "      <td>3.795000</td>\n",
       "      <td>4.019545</td>\n",
       "    </tr>\n",
       "    <tr>\n",
       "      <th>2018-04-01 18:00:00+03:00</th>\n",
       "      <td>3.787619</td>\n",
       "      <td>3.795000</td>\n",
       "    </tr>\n",
       "    <tr>\n",
       "      <th>2018-04-01 19:00:00+03:00</th>\n",
       "      <td>4.203333</td>\n",
       "      <td>3.787619</td>\n",
       "    </tr>\n",
       "    <tr>\n",
       "      <th>2018-04-01 20:00:00+03:00</th>\n",
       "      <td>4.240500</td>\n",
       "      <td>4.203333</td>\n",
       "    </tr>\n",
       "    <tr>\n",
       "      <th>2018-04-01 21:00:00+03:00</th>\n",
       "      <td>3.643333</td>\n",
       "      <td>4.240500</td>\n",
       "    </tr>\n",
       "    <tr>\n",
       "      <th>2018-04-01 22:00:00+03:00</th>\n",
       "      <td>3.643333</td>\n",
       "      <td>3.643333</td>\n",
       "    </tr>\n",
       "    <tr>\n",
       "      <th>2018-04-01 23:00:00+03:00</th>\n",
       "      <td>2.834286</td>\n",
       "      <td>3.643333</td>\n",
       "    </tr>\n",
       "    <tr>\n",
       "      <th>2018-04-02 00:00:00+03:00</th>\n",
       "      <td>2.793000</td>\n",
       "      <td>2.834286</td>\n",
       "    </tr>\n",
       "    <tr>\n",
       "      <th>2018-04-02 01:00:00+03:00</th>\n",
       "      <td>2.793000</td>\n",
       "      <td>2.793000</td>\n",
       "    </tr>\n",
       "    <tr>\n",
       "      <th>2018-04-02 02:00:00+03:00</th>\n",
       "      <td>2.578333</td>\n",
       "      <td>2.793000</td>\n",
       "    </tr>\n",
       "    <tr>\n",
       "      <th>2018-04-02 03:00:00+03:00</th>\n",
       "      <td>2.800000</td>\n",
       "      <td>2.578333</td>\n",
       "    </tr>\n",
       "    <tr>\n",
       "      <th>2018-04-02 04:00:00+03:00</th>\n",
       "      <td>2.758571</td>\n",
       "      <td>2.800000</td>\n",
       "    </tr>\n",
       "    <tr>\n",
       "      <th>2018-04-02 05:00:00+03:00</th>\n",
       "      <td>3.187000</td>\n",
       "      <td>2.758571</td>\n",
       "    </tr>\n",
       "    <tr>\n",
       "      <th>2018-04-02 06:00:00+03:00</th>\n",
       "      <td>3.633333</td>\n",
       "      <td>3.187000</td>\n",
       "    </tr>\n",
       "    <tr>\n",
       "      <th>2018-04-02 07:00:00+03:00</th>\n",
       "      <td>4.214545</td>\n",
       "      <td>3.633333</td>\n",
       "    </tr>\n",
       "    <tr>\n",
       "      <th>2018-04-02 08:00:00+03:00</th>\n",
       "      <td>4.281429</td>\n",
       "      <td>4.214545</td>\n",
       "    </tr>\n",
       "    <tr>\n",
       "      <th>2018-04-02 09:00:00+03:00</th>\n",
       "      <td>3.410000</td>\n",
       "      <td>4.281429</td>\n",
       "    </tr>\n",
       "    <tr>\n",
       "      <th>2018-04-02 10:00:00+03:00</th>\n",
       "      <td>3.071364</td>\n",
       "      <td>3.410000</td>\n",
       "    </tr>\n",
       "    <tr>\n",
       "      <th>2018-04-02 11:00:00+03:00</th>\n",
       "      <td>3.458333</td>\n",
       "      <td>3.071364</td>\n",
       "    </tr>\n",
       "    <tr>\n",
       "      <th>2018-04-02 12:00:00+03:00</th>\n",
       "      <td>4.015455</td>\n",
       "      <td>3.458333</td>\n",
       "    </tr>\n",
       "    <tr>\n",
       "      <th>2018-04-02 13:00:00+03:00</th>\n",
       "      <td>3.760000</td>\n",
       "      <td>4.015455</td>\n",
       "    </tr>\n",
       "    <tr>\n",
       "      <th>2018-04-02 14:00:00+03:00</th>\n",
       "      <td>3.749524</td>\n",
       "      <td>3.760000</td>\n",
       "    </tr>\n",
       "    <tr>\n",
       "      <th>2018-04-02 15:00:00+03:00</th>\n",
       "      <td>3.357500</td>\n",
       "      <td>3.749524</td>\n",
       "    </tr>\n",
       "    <tr>\n",
       "      <th>2018-04-02 16:00:00+03:00</th>\n",
       "      <td>3.485714</td>\n",
       "      <td>3.357500</td>\n",
       "    </tr>\n",
       "    <tr>\n",
       "      <th>2018-04-02 17:00:00+03:00</th>\n",
       "      <td>3.685000</td>\n",
       "      <td>3.485714</td>\n",
       "    </tr>\n",
       "    <tr>\n",
       "      <th>2018-04-02 18:00:00+03:00</th>\n",
       "      <td>4.535500</td>\n",
       "      <td>3.685000</td>\n",
       "    </tr>\n",
       "    <tr>\n",
       "      <th>2018-04-02 19:00:00+03:00</th>\n",
       "      <td>4.770000</td>\n",
       "      <td>4.535500</td>\n",
       "    </tr>\n",
       "  </tbody>\n",
       "</table>\n",
       "</div>"
      ],
      "text/plain": [
       "                                 P2     P2.L1\n",
       "timestamp                                    \n",
       "2018-04-01 04:00:00+03:00  4.125000  4.310455\n",
       "2018-04-01 05:00:00+03:00  4.057273  4.125000\n",
       "2018-04-01 06:00:00+03:00  4.027222  4.057273\n",
       "2018-04-01 07:00:00+03:00  3.731364  4.027222\n",
       "2018-04-01 08:00:00+03:00  3.808000  3.731364\n",
       "2018-04-01 09:00:00+03:00  3.576667  3.808000\n",
       "2018-04-01 10:00:00+03:00  4.022174  3.576667\n",
       "2018-04-01 11:00:00+03:00  5.486316  4.022174\n",
       "2018-04-01 12:00:00+03:00  4.973043  5.486316\n",
       "2018-04-01 13:00:00+03:00  4.814118  4.973043\n",
       "2018-04-01 14:00:00+03:00  3.915238  4.814118\n",
       "2018-04-01 15:00:00+03:00  3.836667  3.915238\n",
       "2018-04-01 16:00:00+03:00  4.019545  3.836667\n",
       "2018-04-01 17:00:00+03:00  3.795000  4.019545\n",
       "2018-04-01 18:00:00+03:00  3.787619  3.795000\n",
       "2018-04-01 19:00:00+03:00  4.203333  3.787619\n",
       "2018-04-01 20:00:00+03:00  4.240500  4.203333\n",
       "2018-04-01 21:00:00+03:00  3.643333  4.240500\n",
       "2018-04-01 22:00:00+03:00  3.643333  3.643333\n",
       "2018-04-01 23:00:00+03:00  2.834286  3.643333\n",
       "2018-04-02 00:00:00+03:00  2.793000  2.834286\n",
       "2018-04-02 01:00:00+03:00  2.793000  2.793000\n",
       "2018-04-02 02:00:00+03:00  2.578333  2.793000\n",
       "2018-04-02 03:00:00+03:00  2.800000  2.578333\n",
       "2018-04-02 04:00:00+03:00  2.758571  2.800000\n",
       "2018-04-02 05:00:00+03:00  3.187000  2.758571\n",
       "2018-04-02 06:00:00+03:00  3.633333  3.187000\n",
       "2018-04-02 07:00:00+03:00  4.214545  3.633333\n",
       "2018-04-02 08:00:00+03:00  4.281429  4.214545\n",
       "2018-04-02 09:00:00+03:00  3.410000  4.281429\n",
       "2018-04-02 10:00:00+03:00  3.071364  3.410000\n",
       "2018-04-02 11:00:00+03:00  3.458333  3.071364\n",
       "2018-04-02 12:00:00+03:00  4.015455  3.458333\n",
       "2018-04-02 13:00:00+03:00  3.760000  4.015455\n",
       "2018-04-02 14:00:00+03:00  3.749524  3.760000\n",
       "2018-04-02 15:00:00+03:00  3.357500  3.749524\n",
       "2018-04-02 16:00:00+03:00  3.485714  3.357500\n",
       "2018-04-02 17:00:00+03:00  3.685000  3.485714\n",
       "2018-04-02 18:00:00+03:00  4.535500  3.685000\n",
       "2018-04-02 19:00:00+03:00  4.770000  4.535500"
      ]
     },
     "execution_count": 33,
     "metadata": {},
     "output_type": "execute_result"
    }
   ],
   "source": [
    "df = wrangle(r'C:\\Users\\USER\\Desktop\\PROJECTS\\air- quality in nairobi.csv', sep=';')\n",
    "print(df.shape)\n",
    "df.head(40)\n"
   ]
  },
  {
   "cell_type": "code",
   "execution_count": 21,
   "id": "c4c4d507",
   "metadata": {},
   "outputs": [
    {
     "name": "stdout",
     "output_type": "stream",
     "text": [
      "<class 'pandas.core.frame.DataFrame'>\n",
      "DatetimeIndex: 719 entries, 2018-04-01 04:00:00+03:00 to 2018-05-01 02:00:00+03:00\n",
      "Freq: h\n",
      "Data columns (total 2 columns):\n",
      " #   Column  Non-Null Count  Dtype  \n",
      "---  ------  --------------  -----  \n",
      " 0   P2      719 non-null    float64\n",
      " 1   P2.L1   719 non-null    float64\n",
      "dtypes: float64(2)\n",
      "memory usage: 16.9 KB\n"
     ]
    }
   ],
   "source": [
    "df.info()\n"
   ]
  },
  {
   "cell_type": "code",
   "execution_count": 22,
   "id": "b20b1bb4",
   "metadata": {},
   "outputs": [
    {
     "data": {
      "application/vnd.microsoft.datawrangler.viewer.v0+json": {
       "columns": [
        {
         "name": "index",
         "rawType": "object",
         "type": "string"
        },
        {
         "name": "P2",
         "rawType": "float64",
         "type": "float"
        },
        {
         "name": "P2.L1",
         "rawType": "float64",
         "type": "float"
        }
       ],
       "conversionMethod": "pd.DataFrame",
       "ref": "aa9e15a2-75bc-4bf5-baf1-2b8437f0a6f5",
       "rows": [
        [
         "count",
         "719.0",
         "719.0"
        ],
        [
         "mean",
         "3.8099525236022096",
         "3.8139720225769604"
        ],
        [
         "std",
         "2.785856069459143",
         "2.784488173624902"
        ],
        [
         "min",
         "0.7350000000000001",
         "0.7350000000000001"
        ],
        [
         "25%",
         "1.8825",
         "1.8863541666666668"
        ],
        [
         "50%",
         "3.1643478260869564",
         "3.1675"
        ],
        [
         "75%",
         "4.518390151515152",
         "4.518390151515152"
        ],
        [
         "max",
         "18.81863636363636",
         "18.81863636363636"
        ]
       ],
       "shape": {
        "columns": 2,
        "rows": 8
       }
      },
      "text/html": [
       "<div>\n",
       "<style scoped>\n",
       "    .dataframe tbody tr th:only-of-type {\n",
       "        vertical-align: middle;\n",
       "    }\n",
       "\n",
       "    .dataframe tbody tr th {\n",
       "        vertical-align: top;\n",
       "    }\n",
       "\n",
       "    .dataframe thead th {\n",
       "        text-align: right;\n",
       "    }\n",
       "</style>\n",
       "<table border=\"1\" class=\"dataframe\">\n",
       "  <thead>\n",
       "    <tr style=\"text-align: right;\">\n",
       "      <th></th>\n",
       "      <th>P2</th>\n",
       "      <th>P2.L1</th>\n",
       "    </tr>\n",
       "  </thead>\n",
       "  <tbody>\n",
       "    <tr>\n",
       "      <th>count</th>\n",
       "      <td>719.000000</td>\n",
       "      <td>719.000000</td>\n",
       "    </tr>\n",
       "    <tr>\n",
       "      <th>mean</th>\n",
       "      <td>3.809953</td>\n",
       "      <td>3.813972</td>\n",
       "    </tr>\n",
       "    <tr>\n",
       "      <th>std</th>\n",
       "      <td>2.785856</td>\n",
       "      <td>2.784488</td>\n",
       "    </tr>\n",
       "    <tr>\n",
       "      <th>min</th>\n",
       "      <td>0.735000</td>\n",
       "      <td>0.735000</td>\n",
       "    </tr>\n",
       "    <tr>\n",
       "      <th>25%</th>\n",
       "      <td>1.882500</td>\n",
       "      <td>1.886354</td>\n",
       "    </tr>\n",
       "    <tr>\n",
       "      <th>50%</th>\n",
       "      <td>3.164348</td>\n",
       "      <td>3.167500</td>\n",
       "    </tr>\n",
       "    <tr>\n",
       "      <th>75%</th>\n",
       "      <td>4.518390</td>\n",
       "      <td>4.518390</td>\n",
       "    </tr>\n",
       "    <tr>\n",
       "      <th>max</th>\n",
       "      <td>18.818636</td>\n",
       "      <td>18.818636</td>\n",
       "    </tr>\n",
       "  </tbody>\n",
       "</table>\n",
       "</div>"
      ],
      "text/plain": [
       "               P2       P2.L1\n",
       "count  719.000000  719.000000\n",
       "mean     3.809953    3.813972\n",
       "std      2.785856    2.784488\n",
       "min      0.735000    0.735000\n",
       "25%      1.882500    1.886354\n",
       "50%      3.164348    3.167500\n",
       "75%      4.518390    4.518390\n",
       "max     18.818636   18.818636"
      ]
     },
     "execution_count": 22,
     "metadata": {},
     "output_type": "execute_result"
    }
   ],
   "source": [
    "df.describe()\n"
   ]
  },
  {
   "cell_type": "markdown",
   "id": "f9dbffa6",
   "metadata": {},
   "source": [
    "**SHOWING THE OUTLIERS IN THE DATA**"
   ]
  },
  {
   "cell_type": "code",
   "execution_count": 23,
   "id": "17b89c1f",
   "metadata": {},
   "outputs": [
    {
     "data": {
      "text/plain": [
       "Text(0.5, 1.0, 'Box Plot of P2')"
      ]
     },
     "execution_count": 23,
     "metadata": {},
     "output_type": "execute_result"
    },
    {
     "data": {
      "image/png": "[encoded data removed]",
      "text/plain": [
       "<Figure size 1200x600 with 1 Axes>"
      ]
     },
     "metadata": {},
     "output_type": "display_data"
    }
   ],
   "source": [
    "df['P2'].plot(kind='box', vert=False, figsize=(12, 6), color='blue')\n",
    "plt.title('Box Plot of P2')\n"
   ]
  },
  {
   "cell_type": "markdown",
   "id": "d04ffdbd",
   "metadata": {},
   "source": [
    "**CREATE A TIME SERIES PLOT OF P2 READINGS**"
   ]
  },
  {
   "cell_type": "code",
   "execution_count": 18,
   "id": "ab35e57e",
   "metadata": {},
   "outputs": [
    {
     "data": {
      "text/plain": [
       "Text(0, 0.5, 'P2 Readings')"
      ]
     },
     "execution_count": 18,
     "metadata": {},
     "output_type": "execute_result"
    },
    {
     "data": {
      "image/png": "[encoded data removed]",
      "text/plain": [
       "<Figure size 1600x600 with 1 Axes>"
      ]
     },
     "metadata": {},
     "output_type": "display_data"
    }
   ],
   "source": [
    "fig, ax = plt.subplots(figsize=(16, 6))\n",
    "df['P2'].plot(ax=ax)\n",
    "plt.title('Time Series of P2')\n",
    "plt.xlabel('Timestamp')\n",
    "plt.ylabel('P2 Readings')\n"
   ]
  },
  {
   "cell_type": "markdown",
   "id": "58e275bb",
   "metadata": {},
   "source": [
    "**CHANGING OUR READINGS TO ONE HOUR INTERVAL TO SEE THE AVERAGE READINGS**"
   ]
  },
  {
   "cell_type": "code",
   "execution_count": 24,
   "id": "aa204f13",
   "metadata": {},
   "outputs": [
    {
     "name": "stdout",
     "output_type": "stream",
     "text": [
      "<class 'pandas.core.frame.DataFrame'>\n",
      "DatetimeIndex: 719 entries, 2018-04-01 04:00:00+03:00 to 2018-05-01 02:00:00+03:00\n",
      "Freq: h\n",
      "Data columns (total 2 columns):\n",
      " #   Column  Non-Null Count  Dtype  \n",
      "---  ------  --------------  -----  \n",
      " 0   P2      719 non-null    float64\n",
      " 1   P2.L1   719 non-null    float64\n",
      "dtypes: float64(2)\n",
      "memory usage: 16.9 KB\n",
      "None\n"
     ]
    },
    {
     "name": "stderr",
     "output_type": "stream",
     "text": [
      "C:\\Users\\USER\\AppData\\Local\\Temp\\ipykernel_6724\\3158860786.py:1: FutureWarning: 'H' is deprecated and will be removed in a future version, please use 'h' instead.\n",
      "  df['P2'].resample('1H').mean()\n"
     ]
    }
   ],
   "source": [
    "df['P2'].resample('1H').mean()\n",
    "print(df.info())\n"
   ]
  },
  {
   "cell_type": "markdown",
   "id": "8a6d6c81",
   "metadata": {},
   "source": [
    "**BEFORE FILLING WE CAN SEE THERES A SPACE IN BETWEEEN THE DATA**"
   ]
  },
  {
   "cell_type": "code",
   "execution_count": null,
   "id": "1943900e",
   "metadata": {},
   "outputs": [
    {
     "name": "stdout",
     "output_type": "stream",
     "text": [
      "timestamp\n",
      "2018-04-01 03:00:00+03:00    4.306190\n",
      "2018-04-01 04:00:00+03:00    4.125000\n",
      "2018-04-01 05:00:00+03:00    4.057273\n",
      "2018-04-01 06:00:00+03:00    4.027222\n",
      "2018-04-01 07:00:00+03:00    3.731364\n",
      "Freq: h, Name: P2, dtype: float64\n"
     ]
    },
    {
     "name": "stderr",
     "output_type": "stream",
     "text": [
      "C:\\Users\\USER\\AppData\\Local\\Temp\\ipykernel_7576\\3303963016.py:1: FutureWarning:\n",
      "\n",
      "'H' is deprecated and will be removed in a future version, please use 'h' instead.\n",
      "\n",
      "C:\\Users\\USER\\AppData\\Local\\Temp\\ipykernel_7576\\3303963016.py:2: FutureWarning:\n",
      "\n",
      "'H' is deprecated and will be removed in a future version, please use 'h' instead.\n",
      "\n"
     ]
    },
    {
     "data": {
      "text/plain": [
       "<Axes: xlabel='timestamp'>"
      ]
     },
     "execution_count": 59,
     "metadata": {},
     "output_type": "execute_result"
    },
    {
     "data": {
      "image/png": "[encoded data removed]",
      "text/plain": [
       "<Figure size 1800x600 with 1 Axes>"
      ]
     },
     "metadata": {},
     "output_type": "display_data"
    }
   ],
   "source": [
    "print(df['P2'].resample('1H').mean().head())\n",
    "df['P2'].resample('1H').mean().plot(figsize=(18, 6), color='blue', alpha=0.7)\n"
   ]
  },
  {
   "cell_type": "markdown",
   "id": "500a6b52",
   "metadata": {},
   "source": [
    "**OUR DATA HAS NULL VALUES AFTER RESAMPLING TEM TO 1HOUR INTERVAL SO WE NEED TO FILL THE VALUES BACK....BUT BECAUSE THIS IS A TIME SERIES WE CANT USE MEAN OR MODE TO FILL THE NULL VALUES**\n",
    "**SO WE WILL USE FORWARD FILL TO FILL IT UP**"
   ]
  },
  {
   "cell_type": "code",
   "execution_count": null,
   "id": "ac6225b8",
   "metadata": {},
   "outputs": [
    {
     "name": "stdout",
     "output_type": "stream",
     "text": [
      "0\n"
     ]
    },
    {
     "name": "stderr",
     "output_type": "stream",
     "text": [
      "C:\\Users\\USER\\AppData\\Local\\Temp\\ipykernel_14992\\1114731970.py:1: FutureWarning: 'T' is deprecated and will be removed in a future version, please use 'min' instead.\n",
      "  print(df['P2'].resample('30T').mean().isnull().sum())\n",
      "C:\\Users\\USER\\AppData\\Local\\Temp\\ipykernel_14992\\1114731970.py:2: FutureWarning: 'T' is deprecated and will be removed in a future version, please use 'min' instead.\n",
      "  df['P2'].resample('30T').mean().fillna(method='ffill').isnull().sum()\n",
      "C:\\Users\\USER\\AppData\\Local\\Temp\\ipykernel_14992\\1114731970.py:2: FutureWarning: Series.fillna with 'method' is deprecated and will raise in a future version. Use obj.ffill() or obj.bfill() instead.\n",
      "  df['P2'].resample('30T').mean().fillna(method='ffill').isnull().sum()\n"
     ]
    },
    {
     "data": {
      "text/plain": [
       "0"
      ]
     },
     "execution_count": 18,
     "metadata": {},
     "output_type": "execute_result"
    }
   ],
   "source": [
    "print(df['P2'].resample('1H').mean().isnull().sum())\n",
    "df['P2'].resample('1H').mean().fillna(method='ffill').isnull().sum()\n"
   ]
  },
  {
   "cell_type": "markdown",
   "id": "504bd259",
   "metadata": {},
   "source": [
    "**AFTER FILLING THE MISSING VALUES WITH FORWARD FILL**"
   ]
  },
  {
   "cell_type": "code",
   "execution_count": 25,
   "id": "c5e3cbb5",
   "metadata": {},
   "outputs": [
    {
     "name": "stderr",
     "output_type": "stream",
     "text": [
      "C:\\Users\\USER\\AppData\\Local\\Temp\\ipykernel_6724\\3396284435.py:1: FutureWarning: 'H' is deprecated and will be removed in a future version, please use 'h' instead.\n",
      "  df['P2'].resample('1H').mean().fillna(method='ffill').plot(figsize=(18, 6), color='blue', alpha=0.7)\n",
      "C:\\Users\\USER\\AppData\\Local\\Temp\\ipykernel_6724\\3396284435.py:1: FutureWarning: Series.fillna with 'method' is deprecated and will raise in a future version. Use obj.ffill() or obj.bfill() instead.\n",
      "  df['P2'].resample('1H').mean().fillna(method='ffill').plot(figsize=(18, 6), color='blue', alpha=0.7)\n"
     ]
    },
    {
     "data": {
      "text/plain": [
       "<Axes: xlabel='timestamp'>"
      ]
     },
     "execution_count": 25,
     "metadata": {},
     "output_type": "execute_result"
    },
    {
     "data": {
      "image/png": "[encoded data removed]",
      "text/plain": [
       "<Figure size 1800x600 with 1 Axes>"
      ]
     },
     "metadata": {},
     "output_type": "display_data"
    }
   ],
   "source": [
    "df['P2'].resample('1H').mean().fillna(method='ffill').plot(figsize=(18, 6), color='blue', alpha=0.7)\n"
   ]
  },
  {
   "cell_type": "markdown",
   "id": "502bd1e4",
   "metadata": {},
   "source": [
    "**ASSIGNING THE RESAMPLED DATA TO OUR DATAFRAME**"
   ]
  },
  {
   "cell_type": "code",
   "execution_count": 30,
   "id": "24d9abed",
   "metadata": {},
   "outputs": [
    {
     "name": "stderr",
     "output_type": "stream",
     "text": [
      "C:\\Users\\USER\\AppData\\Local\\Temp\\ipykernel_6724\\3280023280.py:1: FutureWarning: 'H' is deprecated and will be removed in a future version, please use 'h' instead.\n",
      "  df = df['P2'].resample('1H').mean().fillna(method='ffill').to_frame()\n",
      "C:\\Users\\USER\\AppData\\Local\\Temp\\ipykernel_6724\\3280023280.py:1: FutureWarning: Series.fillna with 'method' is deprecated and will raise in a future version. Use obj.ffill() or obj.bfill() instead.\n",
      "  df = df['P2'].resample('1H').mean().fillna(method='ffill').to_frame()\n"
     ]
    }
   ],
   "source": [
    "df = df['P2'].resample('1H').mean().fillna(method='ffill').to_frame()\n"
   ]
  },
  {
   "cell_type": "markdown",
   "id": "38bdfd60",
   "metadata": {},
   "source": [
    "**WEEKLY READING VISUALIZATION....THERE'S 168 HOURS IN A WEEK...VISUALIZING THE AIR QUALITY FOR WEEK**"
   ]
  },
  {
   "cell_type": "code",
   "execution_count": 27,
   "id": "abd78a5d",
   "metadata": {},
   "outputs": [
    {
     "data": {
      "text/plain": [
       "<Axes: title={'center': 'Weekly Rolling Average'}, xlabel='timestamp', ylabel='PM2.5 Readings'>"
      ]
     },
     "execution_count": 27,
     "metadata": {},
     "output_type": "execute_result"
    },
    {
     "data": {
      "image/png": "[encoded data removed]",
      "text/plain": [
       "<Figure size 1600x600 with 1 Axes>"
      ]
     },
     "metadata": {},
     "output_type": "display_data"
    }
   ],
   "source": [
    "fig, ax = plt.subplots(figsize=(16, 6))\n",
    "df['P2'].rolling(168).mean().plot(ax=ax, color='blue',ylabel='PM2.5 Readings', title='Weekly Rolling Average')\n"
   ]
  },
  {
   "cell_type": "markdown",
   "id": "8936cd46",
   "metadata": {},
   "source": [
    "**THIS SHOWS OUR READING WILL START 167 HOURS INTO OUR DATA BECAUSE THERE'S NOT ENOUGH WINDOW TO CALCULATE THE AVERAGE...IF WE ARE TO CALCULATE THE AVERAGE READING PER WEEK(168 HOURS IN A WEEK)**"
   ]
  },
  {
   "cell_type": "code",
   "execution_count": 28,
   "id": "568a5c45",
   "metadata": {},
   "outputs": [
    {
     "name": "stdout",
     "output_type": "stream",
     "text": [
      "167\n",
      "timestamp\n",
      "2018-04-01 04:00:00+03:00   NaN\n",
      "2018-04-01 05:00:00+03:00   NaN\n",
      "2018-04-01 06:00:00+03:00   NaN\n",
      "2018-04-01 07:00:00+03:00   NaN\n",
      "2018-04-01 08:00:00+03:00   NaN\n",
      "Freq: h, Name: P2, dtype: float64\n",
      "timestamp\n",
      "2018-04-30 22:00:00+03:00    4.554741\n",
      "2018-04-30 23:00:00+03:00    4.549362\n",
      "2018-05-01 00:00:00+03:00    4.552773\n",
      "2018-05-01 01:00:00+03:00    4.554623\n",
      "2018-05-01 02:00:00+03:00    4.553048\n",
      "Freq: h, Name: P2, dtype: float64\n",
      "None\n"
     ]
    }
   ],
   "source": [
    "print(df['P2'].rolling(168).mean().isnull().sum())\n",
    "print(df['P2'].rolling(168).mean().head())\n",
    "print(print(df['P2'].rolling(168).mean().tail()))\n"
   ]
  },
  {
   "cell_type": "code",
   "execution_count": 34,
   "id": "59ef1a6d",
   "metadata": {},
   "outputs": [
    {
     "data": {
      "application/vnd.microsoft.datawrangler.viewer.v0+json": {
       "columns": [
        {
         "name": "timestamp",
         "rawType": "datetime64[ns, Africa/Nairobi]",
         "type": "unknown"
        },
        {
         "name": "P2",
         "rawType": "float64",
         "type": "float"
        },
        {
         "name": "P2.L1",
         "rawType": "float64",
         "type": "float"
        }
       ],
       "conversionMethod": "pd.DataFrame",
       "ref": "c5ed74fa-efd8-4904-bc35-66d63905d5f4",
       "rows": [
        [
         "2018-04-01 04:00:00+03:00",
         "4.125",
         "4.3104545454545455"
        ],
        [
         "2018-04-01 05:00:00+03:00",
         "4.057272727272728",
         "4.125"
        ],
        [
         "2018-04-01 06:00:00+03:00",
         "4.027222222222223",
         "4.057272727272728"
        ],
        [
         "2018-04-01 07:00:00+03:00",
         "3.7313636363636364",
         "4.027222222222223"
        ],
        [
         "2018-04-01 08:00:00+03:00",
         "3.808",
         "3.7313636363636364"
        ],
        [
         "2018-04-01 09:00:00+03:00",
         "3.5766666666666667",
         "3.808"
        ],
        [
         "2018-04-01 10:00:00+03:00",
         "4.022173913043479",
         "3.5766666666666667"
        ],
        [
         "2018-04-01 11:00:00+03:00",
         "5.486315789473684",
         "4.022173913043479"
        ],
        [
         "2018-04-01 12:00:00+03:00",
         "4.97304347826087",
         "5.486315789473684"
        ],
        [
         "2018-04-01 13:00:00+03:00",
         "4.814117647058824",
         "4.97304347826087"
        ],
        [
         "2018-04-01 14:00:00+03:00",
         "3.915238095238095",
         "4.814117647058824"
        ],
        [
         "2018-04-01 15:00:00+03:00",
         "3.8366666666666664",
         "3.915238095238095"
        ],
        [
         "2018-04-01 16:00:00+03:00",
         "4.0195454545454545",
         "3.8366666666666664"
        ],
        [
         "2018-04-01 17:00:00+03:00",
         "3.7950000000000004",
         "4.0195454545454545"
        ],
        [
         "2018-04-01 18:00:00+03:00",
         "3.787619047619048",
         "3.7950000000000004"
        ],
        [
         "2018-04-01 19:00:00+03:00",
         "4.203333333333333",
         "3.787619047619048"
        ],
        [
         "2018-04-01 20:00:00+03:00",
         "4.2405",
         "4.203333333333333"
        ],
        [
         "2018-04-01 21:00:00+03:00",
         "3.6433333333333335",
         "4.2405"
        ],
        [
         "2018-04-01 22:00:00+03:00",
         "3.6433333333333335",
         "3.6433333333333335"
        ],
        [
         "2018-04-01 23:00:00+03:00",
         "2.834285714285714",
         "3.6433333333333335"
        ],
        [
         "2018-04-02 00:00:00+03:00",
         "2.793",
         "2.834285714285714"
        ],
        [
         "2018-04-02 01:00:00+03:00",
         "2.793",
         "2.793"
        ],
        [
         "2018-04-02 02:00:00+03:00",
         "2.578333333333333",
         "2.793"
        ],
        [
         "2018-04-02 03:00:00+03:00",
         "2.8",
         "2.578333333333333"
        ],
        [
         "2018-04-02 04:00:00+03:00",
         "2.7585714285714285",
         "2.8"
        ],
        [
         "2018-04-02 05:00:00+03:00",
         "3.1870000000000003",
         "2.7585714285714285"
        ],
        [
         "2018-04-02 06:00:00+03:00",
         "3.6333333333333333",
         "3.1870000000000003"
        ],
        [
         "2018-04-02 07:00:00+03:00",
         "4.214545454545455",
         "3.6333333333333333"
        ],
        [
         "2018-04-02 08:00:00+03:00",
         "4.281428571428571",
         "4.214545454545455"
        ],
        [
         "2018-04-02 09:00:00+03:00",
         "3.4099999999999997",
         "4.281428571428571"
        ],
        [
         "2018-04-02 10:00:00+03:00",
         "3.071363636363636",
         "3.4099999999999997"
        ],
        [
         "2018-04-02 11:00:00+03:00",
         "3.4583333333333335",
         "3.071363636363636"
        ],
        [
         "2018-04-02 12:00:00+03:00",
         "4.015454545454546",
         "3.4583333333333335"
        ],
        [
         "2018-04-02 13:00:00+03:00",
         "3.76",
         "4.015454545454546"
        ],
        [
         "2018-04-02 14:00:00+03:00",
         "3.7495238095238093",
         "3.76"
        ],
        [
         "2018-04-02 15:00:00+03:00",
         "3.3575",
         "3.7495238095238093"
        ],
        [
         "2018-04-02 16:00:00+03:00",
         "3.4857142857142858",
         "3.3575"
        ],
        [
         "2018-04-02 17:00:00+03:00",
         "3.6850000000000005",
         "3.4857142857142858"
        ],
        [
         "2018-04-02 18:00:00+03:00",
         "4.5355",
         "3.6850000000000005"
        ],
        [
         "2018-04-02 19:00:00+03:00",
         "4.77",
         "4.5355"
        ]
       ],
       "shape": {
        "columns": 2,
        "rows": 40
       }
      },
      "text/html": [
       "<div>\n",
       "<style scoped>\n",
       "    .dataframe tbody tr th:only-of-type {\n",
       "        vertical-align: middle;\n",
       "    }\n",
       "\n",
       "    .dataframe tbody tr th {\n",
       "        vertical-align: top;\n",
       "    }\n",
       "\n",
       "    .dataframe thead th {\n",
       "        text-align: right;\n",
       "    }\n",
       "</style>\n",
       "<table border=\"1\" class=\"dataframe\">\n",
       "  <thead>\n",
       "    <tr style=\"text-align: right;\">\n",
       "      <th></th>\n",
       "      <th>P2</th>\n",
       "      <th>P2.L1</th>\n",
       "    </tr>\n",
       "    <tr>\n",
       "      <th>timestamp</th>\n",
       "      <th></th>\n",
       "      <th></th>\n",
       "    </tr>\n",
       "  </thead>\n",
       "  <tbody>\n",
       "    <tr>\n",
       "      <th>2018-04-01 04:00:00+03:00</th>\n",
       "      <td>4.125000</td>\n",
       "      <td>4.310455</td>\n",
       "    </tr>\n",
       "    <tr>\n",
       "      <th>2018-04-01 05:00:00+03:00</th>\n",
       "      <td>4.057273</td>\n",
       "      <td>4.125000</td>\n",
       "    </tr>\n",
       "    <tr>\n",
       "      <th>2018-04-01 06:00:00+03:00</th>\n",
       "      <td>4.027222</td>\n",
       "      <td>4.057273</td>\n",
       "    </tr>\n",
       "    <tr>\n",
       "      <th>2018-04-01 07:00:00+03:00</th>\n",
       "      <td>3.731364</td>\n",
       "      <td>4.027222</td>\n",
       "    </tr>\n",
       "    <tr>\n",
       "      <th>2018-04-01 08:00:00+03:00</th>\n",
       "      <td>3.808000</td>\n",
       "      <td>3.731364</td>\n",
       "    </tr>\n",
       "    <tr>\n",
       "      <th>2018-04-01 09:00:00+03:00</th>\n",
       "      <td>3.576667</td>\n",
       "      <td>3.808000</td>\n",
       "    </tr>\n",
       "    <tr>\n",
       "      <th>2018-04-01 10:00:00+03:00</th>\n",
       "      <td>4.022174</td>\n",
       "      <td>3.576667</td>\n",
       "    </tr>\n",
       "    <tr>\n",
       "      <th>2018-04-01 11:00:00+03:00</th>\n",
       "      <td>5.486316</td>\n",
       "      <td>4.022174</td>\n",
       "    </tr>\n",
       "    <tr>\n",
       "      <th>2018-04-01 12:00:00+03:00</th>\n",
       "      <td>4.973043</td>\n",
       "      <td>5.486316</td>\n",
       "    </tr>\n",
       "    <tr>\n",
       "      <th>2018-04-01 13:00:00+03:00</th>\n",
       "      <td>4.814118</td>\n",
       "      <td>4.973043</td>\n",
       "    </tr>\n",
       "    <tr>\n",
       "      <th>2018-04-01 14:00:00+03:00</th>\n",
       "      <td>3.915238</td>\n",
       "      <td>4.814118</td>\n",
       "    </tr>\n",
       "    <tr>\n",
       "      <th>2018-04-01 15:00:00+03:00</th>\n",
       "      <td>3.836667</td>\n",
       "      <td>3.915238</td>\n",
       "    </tr>\n",
       "    <tr>\n",
       "      <th>2018-04-01 16:00:00+03:00</th>\n",
       "      <td>4.019545</td>\n",
       "      <td>3.836667</td>\n",
       "    </tr>\n",
       "    <tr>\n",
       "      <th>2018-04-01 17:00:00+03:00</th>\n",
       "      <td>3.795000</td>\n",
       "      <td>4.019545</td>\n",
       "    </tr>\n",
       "    <tr>\n",
       "      <th>2018-04-01 18:00:00+03:00</th>\n",
       "      <td>3.787619</td>\n",
       "      <td>3.795000</td>\n",
       "    </tr>\n",
       "    <tr>\n",
       "      <th>2018-04-01 19:00:00+03:00</th>\n",
       "      <td>4.203333</td>\n",
       "      <td>3.787619</td>\n",
       "    </tr>\n",
       "    <tr>\n",
       "      <th>2018-04-01 20:00:00+03:00</th>\n",
       "      <td>4.240500</td>\n",
       "      <td>4.203333</td>\n",
       "    </tr>\n",
       "    <tr>\n",
       "      <th>2018-04-01 21:00:00+03:00</th>\n",
       "      <td>3.643333</td>\n",
       "      <td>4.240500</td>\n",
       "    </tr>\n",
       "    <tr>\n",
       "      <th>2018-04-01 22:00:00+03:00</th>\n",
       "      <td>3.643333</td>\n",
       "      <td>3.643333</td>\n",
       "    </tr>\n",
       "    <tr>\n",
       "      <th>2018-04-01 23:00:00+03:00</th>\n",
       "      <td>2.834286</td>\n",
       "      <td>3.643333</td>\n",
       "    </tr>\n",
       "    <tr>\n",
       "      <th>2018-04-02 00:00:00+03:00</th>\n",
       "      <td>2.793000</td>\n",
       "      <td>2.834286</td>\n",
       "    </tr>\n",
       "    <tr>\n",
       "      <th>2018-04-02 01:00:00+03:00</th>\n",
       "      <td>2.793000</td>\n",
       "      <td>2.793000</td>\n",
       "    </tr>\n",
       "    <tr>\n",
       "      <th>2018-04-02 02:00:00+03:00</th>\n",
       "      <td>2.578333</td>\n",
       "      <td>2.793000</td>\n",
       "    </tr>\n",
       "    <tr>\n",
       "      <th>2018-04-02 03:00:00+03:00</th>\n",
       "      <td>2.800000</td>\n",
       "      <td>2.578333</td>\n",
       "    </tr>\n",
       "    <tr>\n",
       "      <th>2018-04-02 04:00:00+03:00</th>\n",
       "      <td>2.758571</td>\n",
       "      <td>2.800000</td>\n",
       "    </tr>\n",
       "    <tr>\n",
       "      <th>2018-04-02 05:00:00+03:00</th>\n",
       "      <td>3.187000</td>\n",
       "      <td>2.758571</td>\n",
       "    </tr>\n",
       "    <tr>\n",
       "      <th>2018-04-02 06:00:00+03:00</th>\n",
       "      <td>3.633333</td>\n",
       "      <td>3.187000</td>\n",
       "    </tr>\n",
       "    <tr>\n",
       "      <th>2018-04-02 07:00:00+03:00</th>\n",
       "      <td>4.214545</td>\n",
       "      <td>3.633333</td>\n",
       "    </tr>\n",
       "    <tr>\n",
       "      <th>2018-04-02 08:00:00+03:00</th>\n",
       "      <td>4.281429</td>\n",
       "      <td>4.214545</td>\n",
       "    </tr>\n",
       "    <tr>\n",
       "      <th>2018-04-02 09:00:00+03:00</th>\n",
       "      <td>3.410000</td>\n",
       "      <td>4.281429</td>\n",
       "    </tr>\n",
       "    <tr>\n",
       "      <th>2018-04-02 10:00:00+03:00</th>\n",
       "      <td>3.071364</td>\n",
       "      <td>3.410000</td>\n",
       "    </tr>\n",
       "    <tr>\n",
       "      <th>2018-04-02 11:00:00+03:00</th>\n",
       "      <td>3.458333</td>\n",
       "      <td>3.071364</td>\n",
       "    </tr>\n",
       "    <tr>\n",
       "      <th>2018-04-02 12:00:00+03:00</th>\n",
       "      <td>4.015455</td>\n",
       "      <td>3.458333</td>\n",
       "    </tr>\n",
       "    <tr>\n",
       "      <th>2018-04-02 13:00:00+03:00</th>\n",
       "      <td>3.760000</td>\n",
       "      <td>4.015455</td>\n",
       "    </tr>\n",
       "    <tr>\n",
       "      <th>2018-04-02 14:00:00+03:00</th>\n",
       "      <td>3.749524</td>\n",
       "      <td>3.760000</td>\n",
       "    </tr>\n",
       "    <tr>\n",
       "      <th>2018-04-02 15:00:00+03:00</th>\n",
       "      <td>3.357500</td>\n",
       "      <td>3.749524</td>\n",
       "    </tr>\n",
       "    <tr>\n",
       "      <th>2018-04-02 16:00:00+03:00</th>\n",
       "      <td>3.485714</td>\n",
       "      <td>3.357500</td>\n",
       "    </tr>\n",
       "    <tr>\n",
       "      <th>2018-04-02 17:00:00+03:00</th>\n",
       "      <td>3.685000</td>\n",
       "      <td>3.485714</td>\n",
       "    </tr>\n",
       "    <tr>\n",
       "      <th>2018-04-02 18:00:00+03:00</th>\n",
       "      <td>4.535500</td>\n",
       "      <td>3.685000</td>\n",
       "    </tr>\n",
       "    <tr>\n",
       "      <th>2018-04-02 19:00:00+03:00</th>\n",
       "      <td>4.770000</td>\n",
       "      <td>4.535500</td>\n",
       "    </tr>\n",
       "  </tbody>\n",
       "</table>\n",
       "</div>"
      ],
      "text/plain": [
       "                                 P2     P2.L1\n",
       "timestamp                                    \n",
       "2018-04-01 04:00:00+03:00  4.125000  4.310455\n",
       "2018-04-01 05:00:00+03:00  4.057273  4.125000\n",
       "2018-04-01 06:00:00+03:00  4.027222  4.057273\n",
       "2018-04-01 07:00:00+03:00  3.731364  4.027222\n",
       "2018-04-01 08:00:00+03:00  3.808000  3.731364\n",
       "2018-04-01 09:00:00+03:00  3.576667  3.808000\n",
       "2018-04-01 10:00:00+03:00  4.022174  3.576667\n",
       "2018-04-01 11:00:00+03:00  5.486316  4.022174\n",
       "2018-04-01 12:00:00+03:00  4.973043  5.486316\n",
       "2018-04-01 13:00:00+03:00  4.814118  4.973043\n",
       "2018-04-01 14:00:00+03:00  3.915238  4.814118\n",
       "2018-04-01 15:00:00+03:00  3.836667  3.915238\n",
       "2018-04-01 16:00:00+03:00  4.019545  3.836667\n",
       "2018-04-01 17:00:00+03:00  3.795000  4.019545\n",
       "2018-04-01 18:00:00+03:00  3.787619  3.795000\n",
       "2018-04-01 19:00:00+03:00  4.203333  3.787619\n",
       "2018-04-01 20:00:00+03:00  4.240500  4.203333\n",
       "2018-04-01 21:00:00+03:00  3.643333  4.240500\n",
       "2018-04-01 22:00:00+03:00  3.643333  3.643333\n",
       "2018-04-01 23:00:00+03:00  2.834286  3.643333\n",
       "2018-04-02 00:00:00+03:00  2.793000  2.834286\n",
       "2018-04-02 01:00:00+03:00  2.793000  2.793000\n",
       "2018-04-02 02:00:00+03:00  2.578333  2.793000\n",
       "2018-04-02 03:00:00+03:00  2.800000  2.578333\n",
       "2018-04-02 04:00:00+03:00  2.758571  2.800000\n",
       "2018-04-02 05:00:00+03:00  3.187000  2.758571\n",
       "2018-04-02 06:00:00+03:00  3.633333  3.187000\n",
       "2018-04-02 07:00:00+03:00  4.214545  3.633333\n",
       "2018-04-02 08:00:00+03:00  4.281429  4.214545\n",
       "2018-04-02 09:00:00+03:00  3.410000  4.281429\n",
       "2018-04-02 10:00:00+03:00  3.071364  3.410000\n",
       "2018-04-02 11:00:00+03:00  3.458333  3.071364\n",
       "2018-04-02 12:00:00+03:00  4.015455  3.458333\n",
       "2018-04-02 13:00:00+03:00  3.760000  4.015455\n",
       "2018-04-02 14:00:00+03:00  3.749524  3.760000\n",
       "2018-04-02 15:00:00+03:00  3.357500  3.749524\n",
       "2018-04-02 16:00:00+03:00  3.485714  3.357500\n",
       "2018-04-02 17:00:00+03:00  3.685000  3.485714\n",
       "2018-04-02 18:00:00+03:00  4.535500  3.685000\n",
       "2018-04-02 19:00:00+03:00  4.770000  4.535500"
      ]
     },
     "execution_count": 34,
     "metadata": {},
     "output_type": "execute_result"
    }
   ],
   "source": [
    "df.head(40)\n"
   ]
  },
  {
   "cell_type": "markdown",
   "id": "89a210b5",
   "metadata": {},
   "source": [
    "**CHECKING FOR CORRELATION BETWEEN P2.LI AND P2....SEEMS THERE'S A GOOD CORRELATION BETWEEN THEM**"
   ]
  },
  {
   "cell_type": "code",
   "execution_count": 35,
   "id": "191bd9a4",
   "metadata": {},
   "outputs": [
    {
     "data": {
      "application/vnd.microsoft.datawrangler.viewer.v0+json": {
       "columns": [
        {
         "name": "index",
         "rawType": "object",
         "type": "string"
        },
        {
         "name": "P2",
         "rawType": "float64",
         "type": "float"
        },
        {
         "name": "P2.L1",
         "rawType": "float64",
         "type": "float"
        }
       ],
       "conversionMethod": "pd.DataFrame",
       "ref": "73eb03cf-5236-45e9-a4b5-94f56407dcaa",
       "rows": [
        [
         "P2",
         "1.0",
         "0.8394413008330648"
        ],
        [
         "P2.L1",
         "0.8394413008330648",
         "1.0"
        ]
       ],
       "shape": {
        "columns": 2,
        "rows": 2
       }
      },
      "text/html": [
       "<div>\n",
       "<style scoped>\n",
       "    .dataframe tbody tr th:only-of-type {\n",
       "        vertical-align: middle;\n",
       "    }\n",
       "\n",
       "    .dataframe tbody tr th {\n",
       "        vertical-align: top;\n",
       "    }\n",
       "\n",
       "    .dataframe thead th {\n",
       "        text-align: right;\n",
       "    }\n",
       "</style>\n",
       "<table border=\"1\" class=\"dataframe\">\n",
       "  <thead>\n",
       "    <tr style=\"text-align: right;\">\n",
       "      <th></th>\n",
       "      <th>P2</th>\n",
       "      <th>P2.L1</th>\n",
       "    </tr>\n",
       "  </thead>\n",
       "  <tbody>\n",
       "    <tr>\n",
       "      <th>P2</th>\n",
       "      <td>1.000000</td>\n",
       "      <td>0.839441</td>\n",
       "    </tr>\n",
       "    <tr>\n",
       "      <th>P2.L1</th>\n",
       "      <td>0.839441</td>\n",
       "      <td>1.000000</td>\n",
       "    </tr>\n",
       "  </tbody>\n",
       "</table>\n",
       "</div>"
      ],
      "text/plain": [
       "             P2     P2.L1\n",
       "P2     1.000000  0.839441\n",
       "P2.L1  0.839441  1.000000"
      ]
     },
     "execution_count": 35,
     "metadata": {},
     "output_type": "execute_result"
    }
   ],
   "source": [
    "df.corr()\n"
   ]
  },
  {
   "cell_type": "code",
   "execution_count": 36,
   "id": "cba6bc95",
   "metadata": {},
   "outputs": [
    {
     "name": "stdout",
     "output_type": "stream",
     "text": [
      "<class 'pandas.core.frame.DataFrame'>\n",
      "DatetimeIndex: 719 entries, 2018-04-01 04:00:00+03:00 to 2018-05-01 02:00:00+03:00\n",
      "Freq: h\n",
      "Data columns (total 2 columns):\n",
      " #   Column  Non-Null Count  Dtype  \n",
      "---  ------  --------------  -----  \n",
      " 0   P2      719 non-null    float64\n",
      " 1   P2.L1   719 non-null    float64\n",
      "dtypes: float64(2)\n",
      "memory usage: 16.9 KB\n"
     ]
    }
   ],
   "source": [
    "df.info()\n"
   ]
  },
  {
   "cell_type": "markdown",
   "id": "a8494978",
   "metadata": {},
   "source": [
    "**PLOTTING THE LINE OF BEST FIT...RELATIONSHIP BTW P2 AND P2 LAG**"
   ]
  },
  {
   "cell_type": "code",
   "execution_count": 37,
   "id": "d30ce95a",
   "metadata": {},
   "outputs": [
    {
     "data": {
      "image/png": "[encoded data removed]",
      "text/plain": [
       "<Figure size 1200x600 with 1 Axes>"
      ]
     },
     "metadata": {},
     "output_type": "display_data"
    }
   ],
   "source": [
    "plt.figure(figsize=(12, 6))\n",
    "plt.scatter(df['P2.L1'], df['P2'])\n",
    "plt.plot([0.0, 20.0], [.00, 20.0], linestyle='--', color='orange')\n",
    "plt.show()\n"
   ]
  },
  {
   "cell_type": "markdown",
   "id": "a9ba855b",
   "metadata": {},
   "source": [
    "**SPLITTING THE DATA**"
   ]
  },
  {
   "cell_type": "code",
   "execution_count": 38,
   "id": "d7041afe",
   "metadata": {},
   "outputs": [
    {
     "name": "stdout",
     "output_type": "stream",
     "text": [
      "(719,)\n",
      "(719, 1)\n"
     ]
    }
   ],
   "source": [
    "target = 'P2'\n",
    "Y = df[target]\n",
    "X = df.drop(columns=target)\n",
    "print(Y.shape)\n",
    "print(X.shape)\n"
   ]
  },
  {
   "cell_type": "markdown",
   "id": "5d6a5f7e",
   "metadata": {},
   "source": [
    "**WE CANT USE THE TRAIN_TEST_SPLIT BECAUSE WE CANT USE TO FUTURE TO PREDICT THE PAST IN A TIME SERIES ANALYSIS WE CAN ONLY SPLIT THE DATA FROM THE PREVIOUS TO THE FUTURE ROW BY ROW**"
   ]
  },
  {
   "cell_type": "code",
   "execution_count": 39,
   "id": "358b3989",
   "metadata": {},
   "outputs": [
    {
     "data": {
      "text/plain": [
       "True"
      ]
     },
     "execution_count": 39,
     "metadata": {},
     "output_type": "execute_result"
    }
   ],
   "source": [
    "cutoff = int(len(X) * 0.8) #80% train, 20% test\n",
    "X_train = X.iloc[:cutoff] #80% of the data\n",
    "X_test = X.iloc[cutoff:]#20% of the data\n",
    "Y_train = Y.iloc[:cutoff] #80% of the data \n",
    "Y_test = Y.iloc[cutoff:] #20% of the data\n",
    "len(X_train) + len(X_test) == len(X)\n"
   ]
  },
  {
   "cell_type": "markdown",
   "id": "2e71d428",
   "metadata": {},
   "source": [
    "**GETTING THE AVERAGE OF Y_TRAIN AND THE MEAN_ABSOLUTE_ERROR**"
   ]
  },
  {
   "cell_type": "code",
   "execution_count": 40,
   "id": "fe7d5b58",
   "metadata": {},
   "outputs": [
    {
     "name": "stdout",
     "output_type": "stream",
     "text": [
      "Baseline MAE: 1.841118611077325\n",
      "[3.8099525236022096, 3.8099525236022096, 3.8099525236022096, 3.8099525236022096, 3.8099525236022096]\n",
      "MEAN_PM2.5 READING: 3.8099525236022096\n"
     ]
    }
   ],
   "source": [
    "Y_mean = Y.mean()\n",
    "Y_pred_baseline = [Y_mean] * len(Y_train)\n",
    "print('Baseline MAE:', mean_absolute_error(Y_train, Y_pred_baseline))\n",
    "print(Y_pred_baseline[:5])\n",
    "print('MEAN_PM2.5 READING:', Y_mean)\n"
   ]
  },
  {
   "cell_type": "markdown",
   "id": "d6d8c210",
   "metadata": {},
   "source": [
    "**INSTANTIATE THE MODEL**"
   ]
  },
  {
   "cell_type": "markdown",
   "id": "3f1867f1",
   "metadata": {},
   "source": [
    "**DUE TO LOW DATA AFTER FILTERING OUR TRAIN AND TEST SCORE CSNT BE SATISFYING BUT WITH ENOUGH DATA TO WORK WITH AM SURE OUR SCORE WILL NORMALIZE**"
   ]
  },
  {
   "cell_type": "code",
   "execution_count": 41,
   "id": "971f33aa",
   "metadata": {},
   "outputs": [
    {
     "name": "stdout",
     "output_type": "stream",
     "text": [
      "Train MAE: 0.8467907634204589\n",
      "Test MAE: 1.2247597826283656\n",
      "Train R2: 0.7497802100985015\n",
      "Test R2: 0.45604006482021975\n"
     ]
    }
   ],
   "source": [
    "model = LinearRegression()\n",
    "model.fit(X_train, Y_train)\n",
    "mae_train = mean_absolute_error(Y_train, model.predict(X_train))\n",
    "print('Train MAE:', mae_train)\n",
    "mae_test = mean_absolute_error(Y_test, model.predict(X_test))\n",
    "print('Test MAE:', mae_test)\n",
    "r2_train = model.score(X_train, Y_train)\n",
    "print('Train R2:', r2_train)\n",
    "r2_test = model.score(X_test, Y_test)\n",
    "print('Test R2:', r2_test)\n"
   ]
  },
  {
   "cell_type": "code",
   "execution_count": 42,
   "id": "ec87f568",
   "metadata": {},
   "outputs": [
    {
     "name": "stdout",
     "output_type": "stream",
     "text": [
      "Coefficient: [0.87]\n",
      "Intercept: 0.48\n"
     ]
    }
   ],
   "source": [
    "coefficient = model.coef_.round(2)\n",
    "intercept = model.intercept_.round(2)\n",
    "print('Coefficient:', coefficient)\n",
    "print('Intercept:', intercept)\n"
   ]
  },
  {
   "cell_type": "markdown",
   "id": "598baf4c",
   "metadata": {},
   "source": [
    "**CREATING A DATAFRAME OF Y_PRED_TEST WITH COLUMS Y_TEST AND Y_PRED**\n"
   ]
  },
  {
   "cell_type": "code",
   "execution_count": 43,
   "id": "79f40c2c",
   "metadata": {},
   "outputs": [
    {
     "data": {
      "application/vnd.microsoft.datawrangler.viewer.v0+json": {
       "columns": [
        {
         "name": "timestamp",
         "rawType": "datetime64[ns, Africa/Nairobi]",
         "type": "unknown"
        },
        {
         "name": "y_test",
         "rawType": "float64",
         "type": "float"
        },
        {
         "name": "y_pred",
         "rawType": "float64",
         "type": "float"
        }
       ],
       "conversionMethod": "pd.DataFrame",
       "ref": "6702496f-8c74-463e-a335-4847679a5670",
       "rows": [
        [
         "2018-04-25 03:00:00+03:00",
         "1.9482608695652175",
         "2.753110479135083"
        ],
        [
         "2018-04-25 04:00:00+03:00",
         "1.8187499999999999",
         "2.1624111718380727"
        ],
        [
         "2018-04-25 05:00:00+03:00",
         "1.8230434782608695",
         "2.050263798371964"
        ],
        [
         "2018-04-25 06:00:00+03:00",
         "3.1525",
         "2.053981650870421"
        ],
        [
         "2018-04-25 07:00:00+03:00",
         "6.370416666666666",
         "3.205198205519163"
        ],
        [
         "2018-04-25 08:00:00+03:00",
         "3.0041666666666664",
         "5.991689435259187"
        ],
        [
         "2018-04-25 09:00:00+03:00",
         "2.657826086956522",
         "3.0767518921969503"
        ],
        [
         "2018-04-25 10:00:00+03:00",
         "3.105",
         "2.776845123988101"
        ],
        [
         "2018-04-25 11:00:00+03:00",
         "5.703636363636364",
         "3.1640665209159824"
        ],
        [
         "2018-04-25 12:00:00+03:00",
         "8.561304347826086",
         "5.414304232651703"
        ],
        [
         "2018-04-25 13:00:00+03:00",
         "6.64",
         "7.888845247942191"
        ],
        [
         "2018-04-25 14:00:00+03:00",
         "6.75608695652174",
         "6.225129785594782"
        ],
        [
         "2018-04-25 15:00:00+03:00",
         "4.7975",
         "6.32565298732521"
        ],
        [
         "2018-04-25 16:00:00+03:00",
         "5.594347826086956",
         "4.629653388092466"
        ],
        [
         "2018-04-25 17:00:00+03:00",
         "5.442083333333334",
         "5.319667987236438"
        ],
        [
         "2018-04-25 18:00:00+03:00",
         "5.804545454545455",
         "5.187817564242643"
        ],
        [
         "2018-04-25 19:00:00+03:00",
         "9.927857142857144",
         "5.501684462143627"
        ],
        [
         "2018-04-25 20:00:00+03:00",
         "10.33235294117647",
         "9.072184586022448"
        ],
        [
         "2018-04-25 21:00:00+03:00",
         "8.681999999999999",
         "9.422449714438915"
        ],
        [
         "2018-04-25 22:00:00+03:00",
         "10.078333333333333",
         "7.993359258430455"
        ],
        [
         "2018-04-25 23:00:00+03:00",
         "8.01125",
         "9.2024864640636"
        ],
        [
         "2018-04-26 00:00:00+03:00",
         "6.528695652173913",
         "7.41253657532344"
        ],
        [
         "2018-04-26 01:00:00+03:00",
         "7.009166666666666",
         "6.128747989179091"
        ],
        [
         "2018-04-26 02:00:00+03:00",
         "6.102916666666666",
         "6.544802351896693"
        ],
        [
         "2018-04-26 03:00:00+03:00",
         "6.329166666666667",
         "5.760053106178118"
        ],
        [
         "2018-04-26 04:00:00+03:00",
         "6.858695652173913",
         "5.955969814419584"
        ],
        [
         "2018-04-26 05:00:00+03:00",
         "8.491666666666667",
         "6.414504955895924"
        ],
        [
         "2018-04-26 06:00:00+03:00",
         "7.895416666666667",
         "7.828543876617011"
        ],
        [
         "2018-04-26 07:00:00+03:00",
         "7.464782608695652",
         "7.312232993571824"
        ],
        [
         "2018-04-26 08:00:00+03:00",
         "10.776666666666666",
         "6.9393339566907395"
        ],
        [
         "2018-04-26 09:00:00+03:00",
         "9.786666666666667",
         "9.807194388580534"
        ],
        [
         "2018-04-26 10:00:00+03:00",
         "7.841739130434783",
         "8.949923488430036"
        ],
        [
         "2018-04-26 11:00:00+03:00",
         "9.4275",
         "7.265751993770443"
        ],
        [
         "2018-04-26 12:00:00+03:00",
         "8.872916666666667",
         "8.638910224149846"
        ],
        [
         "2018-04-26 13:00:00+03:00",
         "6.01",
         "8.15867976619517"
        ],
        [
         "2018-04-26 14:00:00+03:00",
         "3.3644999999999996",
         "5.679593758226283"
        ],
        [
         "2018-04-26 15:00:00+03:00",
         "3.341666666666667",
         "3.3887754083796735"
        ],
        [
         "2018-04-26 16:00:00+03:00",
         "4.752173913043478",
         "3.369003335430075"
        ],
        [
         "2018-04-26 17:00:00+03:00",
         "5.550833333333333",
         "4.590404160450529"
        ],
        [
         "2018-04-26 18:00:00+03:00",
         "5.395217391304348",
         "5.281987473728872"
        ],
        [
         "2018-04-26 19:00:00+03:00",
         "7.274545454545454",
         "5.147234929586491"
        ],
        [
         "2018-04-26 20:00:00+03:00",
         "6.358333333333333",
         "6.774601859336791"
        ],
        [
         "2018-04-26 21:00:00+03:00",
         "7.995",
         "5.98122611198294"
        ],
        [
         "2018-04-26 22:00:00+03:00",
         "5.814166666666666",
         "7.398465209538141"
        ],
        [
         "2018-04-26 23:00:00+03:00",
         "6.556521739130435",
         "5.510015760300889"
        ],
        [
         "2018-04-27 00:00:00+03:00",
         "12.6",
         "6.152843438283014"
        ],
        [
         "2018-04-27 01:00:00+03:00",
         "5.8775",
         "11.386073790541216"
        ],
        [
         "2018-04-27 02:00:00+03:00",
         "4.305217391304348",
         "5.564858006438464"
        ],
        [
         "2018-04-27 03:00:00+03:00",
         "4.575833333333333",
         "4.203371009218772"
        ],
        [
         "2018-04-27 04:00:00+03:00",
         "4.110833333333333",
         "4.437705526610957"
        ]
       ],
       "shape": {
        "columns": 2,
        "rows": 144
       }
      },
      "text/html": [
       "<div>\n",
       "<style scoped>\n",
       "    .dataframe tbody tr th:only-of-type {\n",
       "        vertical-align: middle;\n",
       "    }\n",
       "\n",
       "    .dataframe tbody tr th {\n",
       "        vertical-align: top;\n",
       "    }\n",
       "\n",
       "    .dataframe thead th {\n",
       "        text-align: right;\n",
       "    }\n",
       "</style>\n",
       "<table border=\"1\" class=\"dataframe\">\n",
       "  <thead>\n",
       "    <tr style=\"text-align: right;\">\n",
       "      <th></th>\n",
       "      <th>y_test</th>\n",
       "      <th>y_pred</th>\n",
       "    </tr>\n",
       "    <tr>\n",
       "      <th>timestamp</th>\n",
       "      <th></th>\n",
       "      <th></th>\n",
       "    </tr>\n",
       "  </thead>\n",
       "  <tbody>\n",
       "    <tr>\n",
       "      <th>2018-04-25 03:00:00+03:00</th>\n",
       "      <td>1.948261</td>\n",
       "      <td>2.753110</td>\n",
       "    </tr>\n",
       "    <tr>\n",
       "      <th>2018-04-25 04:00:00+03:00</th>\n",
       "      <td>1.818750</td>\n",
       "      <td>2.162411</td>\n",
       "    </tr>\n",
       "    <tr>\n",
       "      <th>2018-04-25 05:00:00+03:00</th>\n",
       "      <td>1.823043</td>\n",
       "      <td>2.050264</td>\n",
       "    </tr>\n",
       "    <tr>\n",
       "      <th>2018-04-25 06:00:00+03:00</th>\n",
       "      <td>3.152500</td>\n",
       "      <td>2.053982</td>\n",
       "    </tr>\n",
       "    <tr>\n",
       "      <th>2018-04-25 07:00:00+03:00</th>\n",
       "      <td>6.370417</td>\n",
       "      <td>3.205198</td>\n",
       "    </tr>\n",
       "    <tr>\n",
       "      <th>...</th>\n",
       "      <td>...</td>\n",
       "      <td>...</td>\n",
       "    </tr>\n",
       "    <tr>\n",
       "      <th>2018-04-30 22:00:00+03:00</th>\n",
       "      <td>3.065652</td>\n",
       "      <td>3.246691</td>\n",
       "    </tr>\n",
       "    <tr>\n",
       "      <th>2018-04-30 23:00:00+03:00</th>\n",
       "      <td>2.887083</td>\n",
       "      <td>3.129994</td>\n",
       "    </tr>\n",
       "    <tr>\n",
       "      <th>2018-05-01 00:00:00+03:00</th>\n",
       "      <td>2.479167</td>\n",
       "      <td>2.975366</td>\n",
       "    </tr>\n",
       "    <tr>\n",
       "      <th>2018-05-01 01:00:00+03:00</th>\n",
       "      <td>1.751667</td>\n",
       "      <td>2.622139</td>\n",
       "    </tr>\n",
       "    <tr>\n",
       "      <th>2018-05-01 02:00:00+03:00</th>\n",
       "      <td>1.420435</td>\n",
       "      <td>1.992174</td>\n",
       "    </tr>\n",
       "  </tbody>\n",
       "</table>\n",
       "<p>144 rows × 2 columns</p>\n",
       "</div>"
      ],
      "text/plain": [
       "                             y_test    y_pred\n",
       "timestamp                                    \n",
       "2018-04-25 03:00:00+03:00  1.948261  2.753110\n",
       "2018-04-25 04:00:00+03:00  1.818750  2.162411\n",
       "2018-04-25 05:00:00+03:00  1.823043  2.050264\n",
       "2018-04-25 06:00:00+03:00  3.152500  2.053982\n",
       "2018-04-25 07:00:00+03:00  6.370417  3.205198\n",
       "...                             ...       ...\n",
       "2018-04-30 22:00:00+03:00  3.065652  3.246691\n",
       "2018-04-30 23:00:00+03:00  2.887083  3.129994\n",
       "2018-05-01 00:00:00+03:00  2.479167  2.975366\n",
       "2018-05-01 01:00:00+03:00  1.751667  2.622139\n",
       "2018-05-01 02:00:00+03:00  1.420435  1.992174\n",
       "\n",
       "[144 rows x 2 columns]"
      ]
     },
     "execution_count": 43,
     "metadata": {},
     "output_type": "execute_result"
    }
   ],
   "source": [
    "df_pred_test = pd.DataFrame({\n",
    "           'y_test':Y_test,\n",
    "           'y_pred':model.predict(X_test)\n",
    "\n",
    "})\n",
    "df_pred_test\n"
   ]
  },
  {
   "cell_type": "markdown",
   "id": "bfaff989",
   "metadata": {},
   "source": [
    "**A LINE PLOT OF OUR Y_TEST AGAINST THE Y_PREDICTION**"
   ]
  },
  {
   "cell_type": "code",
   "execution_count": 44,
   "id": "d6fc69b6",
   "metadata": {},
   "outputs": [
    {
     "data": {
      "application/vnd.plotly.v1+json": {
       "config": {
        "plotlyServerURL": "https://plot.ly"
       },
       "data": [
        {
         "hovertemplate": "variable=y_test<br>timestamp=%{x}<br>value=%{y}<extra></extra>",
         "legendgroup": "y_test",
         "line": {
          "color": "#636efa",
          "dash": "solid"
         },
         "marker": {
          "symbol": "circle"
         },
         "mode": "lines",
         "name": "y_test",
         "orientation": "v",
         "showlegend": true,
         "type": "scatter",
         "x": [
          "2018-04-25T03:00:00+03:00",
          "2018-04-25T04:00:00+03:00",
          "2018-04-25T05:00:00+03:00",
          "2018-04-25T06:00:00+03:00",
          "2018-04-25T07:00:00+03:00",
          "2018-04-25T08:00:00+03:00",
          "2018-04-25T09:00:00+03:00",
          "2018-04-25T10:00:00+03:00",
          "2018-04-25T11:00:00+03:00",
          "2018-04-25T12:00:00+03:00",
          "2018-04-25T13:00:00+03:00",
          "2018-04-25T14:00:00+03:00",
          "2018-04-25T15:00:00+03:00",
          "2018-04-25T16:00:00+03:00",
          "2018-04-25T17:00:00+03:00",
          "2018-04-25T18:00:00+03:00",
          "2018-04-25T19:00:00+03:00",
          "2018-04-25T20:00:00+03:00",
          "2018-04-25T21:00:00+03:00",
          "2018-04-25T22:00:00+03:00",
          "2018-04-25T23:00:00+03:00",
          "2018-04-26T00:00:00+03:00",
          "2018-04-26T01:00:00+03:00",
          "2018-04-26T02:00:00+03:00",
          "2018-04-26T03:00:00+03:00",
          "2018-04-26T04:00:00+03:00",
          "2018-04-26T05:00:00+03:00",
          "2018-04-26T06:00:00+03:00",
          "2018-04-26T07:00:00+03:00",
          "2018-04-26T08:00:00+03:00",
          "2018-04-26T09:00:00+03:00",
          "2018-04-26T10:00:00+03:00",
          "2018-04-26T11:00:00+03:00",
          "2018-04-26T12:00:00+03:00",
          "2018-04-26T13:00:00+03:00",
          "2018-04-26T14:00:00+03:00",
          "2018-04-26T15:00:00+03:00",
          "2018-04-26T16:00:00+03:00",
          "2018-04-26T17:00:00+03:00",
          "2018-04-26T18:00:00+03:00",
          "2018-04-26T19:00:00+03:00",
          "2018-04-26T20:00:00+03:00",
          "2018-04-26T21:00:00+03:00",
          "2018-04-26T22:00:00+03:00",
          "2018-04-26T23:00:00+03:00",
          "2018-04-27T00:00:00+03:00",
          "2018-04-27T01:00:00+03:00",
          "2018-04-27T02:00:00+03:00",
          "2018-04-27T03:00:00+03:00",
          "2018-04-27T04:00:00+03:00",
          "2018-04-27T05:00:00+03:00",
          "2018-04-27T06:00:00+03:00",
          "2018-04-27T07:00:00+03:00",
          "2018-04-27T08:00:00+03:00",
          "2018-04-27T09:00:00+03:00",
          "2018-04-27T10:00:00+03:00",
          "2018-04-27T11:00:00+03:00",
          "2018-04-27T12:00:00+03:00",
          "2018-04-27T13:00:00+03:00",
          "2018-04-27T14:00:00+03:00",
          "2018-04-27T15:00:00+03:00",
          "2018-04-27T16:00:00+03:00",
          "2018-04-27T17:00:00+03:00",
          "2018-04-27T18:00:00+03:00",
          "2018-04-27T19:00:00+03:00",
          "2018-04-27T20:00:00+03:00",
          "2018-04-27T21:00:00+03:00",
          "2018-04-27T22:00:00+03:00",
          "2018-04-27T23:00:00+03:00",
          "2018-04-28T00:00:00+03:00",
          "2018-04-28T01:00:00+03:00",
          "2018-04-28T02:00:00+03:00",
          "2018-04-28T03:00:00+03:00",
          "2018-04-28T04:00:00+03:00",
          "2018-04-28T05:00:00+03:00",
          "2018-04-28T06:00:00+03:00",
          "2018-04-28T07:00:00+03:00",
          "2018-04-28T08:00:00+03:00",
          "2018-04-28T09:00:00+03:00",
          "2018-04-28T10:00:00+03:00",
          "2018-04-28T11:00:00+03:00",
          "2018-04-28T12:00:00+03:00",
          "2018-04-28T13:00:00+03:00",
          "2018-04-28T14:00:00+03:00",
          "2018-04-28T15:00:00+03:00",
          "2018-04-28T16:00:00+03:00",
          "2018-04-28T17:00:00+03:00",
          "2018-04-28T18:00:00+03:00",
          "2018-04-28T19:00:00+03:00",
          "2018-04-28T20:00:00+03:00",
          "2018-04-28T21:00:00+03:00",
          "2018-04-28T22:00:00+03:00",
          "2018-04-28T23:00:00+03:00",
          "2018-04-29T00:00:00+03:00",
          "2018-04-29T01:00:00+03:00",
          "2018-04-29T02:00:00+03:00",
          "2018-04-29T03:00:00+03:00",
          "2018-04-29T04:00:00+03:00",
          "2018-04-29T05:00:00+03:00",
          "2018-04-29T06:00:00+03:00",
          "2018-04-29T07:00:00+03:00",
          "2018-04-29T08:00:00+03:00",
          "2018-04-29T09:00:00+03:00",
          "2018-04-29T10:00:00+03:00",
          "2018-04-29T11:00:00+03:00",
          "2018-04-29T12:00:00+03:00",
          "2018-04-29T13:00:00+03:00",
          "2018-04-29T14:00:00+03:00",
          "2018-04-29T15:00:00+03:00",
          "2018-04-29T16:00:00+03:00",
          "2018-04-29T17:00:00+03:00",
          "2018-04-29T18:00:00+03:00",
          "2018-04-29T19:00:00+03:00",
          "2018-04-29T20:00:00+03:00",
          "2018-04-29T21:00:00+03:00",
          "2018-04-29T22:00:00+03:00",
          "2018-04-29T23:00:00+03:00",
          "2018-04-30T00:00:00+03:00",
          "2018-04-30T01:00:00+03:00",
          "2018-04-30T02:00:00+03:00",
          "2018-04-30T03:00:00+03:00",
          "2018-04-30T04:00:00+03:00",
          "2018-04-30T05:00:00+03:00",
          "2018-04-30T06:00:00+03:00",
          "2018-04-30T07:00:00+03:00",
          "2018-04-30T08:00:00+03:00",
          "2018-04-30T09:00:00+03:00",
          "2018-04-30T10:00:00+03:00",
          "2018-04-30T11:00:00+03:00",
          "2018-04-30T12:00:00+03:00",
          "2018-04-30T13:00:00+03:00",
          "2018-04-30T14:00:00+03:00",
          "2018-04-30T15:00:00+03:00",
          "2018-04-30T16:00:00+03:00",
          "2018-04-30T17:00:00+03:00",
          "2018-04-30T18:00:00+03:00",
          "2018-04-30T19:00:00+03:00",
          "2018-04-30T20:00:00+03:00",
          "2018-04-30T21:00:00+03:00",
          "2018-04-30T22:00:00+03:00",
          "2018-04-30T23:00:00+03:00",
          "2018-05-01T00:00:00+03:00",
          "2018-05-01T01:00:00+03:00",
          "2018-05-01T02:00:00+03:00"
         ],
         "xaxis": "x",
         "y": [
          1.9482608695652175,
          1.8187499999999999,
          1.8230434782608695,
          3.1525,
          6.370416666666666,
          3.0041666666666664,
          2.657826086956522,
          3.105,
          5.703636363636364,
          8.561304347826086,
          6.64,
          6.75608695652174,
          4.7975,
          5.594347826086956,
          5.442083333333334,
          5.804545454545455,
          9.927857142857144,
          10.33235294117647,
          8.681999999999999,
          10.078333333333333,
          8.01125,
          6.528695652173913,
          7.009166666666666,
          6.102916666666666,
          6.329166666666667,
          6.858695652173913,
          8.491666666666667,
          7.895416666666667,
          7.464782608695652,
          10.776666666666666,
          9.786666666666667,
          7.841739130434783,
          9.4275,
          8.872916666666667,
          6.01,
          3.3644999999999996,
          3.341666666666667,
          4.752173913043478,
          5.550833333333333,
          5.395217391304348,
          7.274545454545454,
          6.358333333333333,
          7.995,
          5.814166666666666,
          6.556521739130435,
          12.6,
          5.8775,
          4.305217391304348,
          4.575833333333333,
          4.110833333333333,
          3.27875,
          4.019565217391304,
          6.004583333333334,
          4.335833333333333,
          4.197391304347827,
          4.2175,
          4.4054166666666665,
          3.382608695652174,
          2.7066666666666666,
          3.7673913043478264,
          3.0691666666666664,
          3.8158333333333334,
          5.009565217391304,
          5.437083333333334,
          6.139166666666667,
          6.497391304347826,
          7.514166666666667,
          7.15375,
          4.49304347826087,
          3.8404347826086958,
          3.9830434782608695,
          3.816086956521739,
          4.385652173913043,
          2.1054545454545455,
          1.9108695652173915,
          6.922272727272727,
          8.171363636363637,
          7.243181818181818,
          8.31304347826087,
          9.02304347826087,
          9.360416666666667,
          4.098333333333334,
          1.9182608695652172,
          4.7404166666666665,
          3.105,
          3.2066666666666666,
          4.708695652173913,
          4.70125,
          3.205833333333333,
          11.209583333333335,
          4.946086956521739,
          4.0424999999999995,
          3.123333333333333,
          3.0070833333333336,
          2.5430434782608695,
          2.299166666666667,
          2.6975,
          2.5275,
          2.5156521739130433,
          2.4404166666666667,
          3.0362500000000003,
          2.6278260869565218,
          2.044166666666667,
          1.9616666666666667,
          1.8816666666666666,
          1.7683333333333333,
          2.172608695652174,
          2.0320833333333335,
          2.1716666666666664,
          2.268333333333333,
          2.260869565217391,
          2.3375,
          2.3658333333333332,
          1.7787499999999998,
          1.7391666666666667,
          2.5708695652173916,
          3.0433333333333334,
          3.1675,
          4.638333333333333,
          8.947391304347827,
          7.305416666666667,
          6.472916666666666,
          5.62125,
          5.702916666666667,
          5.823478260869565,
          2.4208333333333334,
          2.0908333333333333,
          1.2995652173913044,
          1.40125,
          1.3029166666666667,
          0.9095833333333333,
          0.8539130434782609,
          0.9500000000000001,
          0.9943478260869566,
          9.054583333333333,
          12.815,
          4.520416666666667,
          3.61125,
          3.200416666666667,
          3.0656521739130436,
          2.8870833333333334,
          2.4791666666666665,
          1.7516666666666667,
          1.4204347826086958
         ],
         "yaxis": "y"
        },
        {
         "hovertemplate": "variable=y_pred<br>timestamp=%{x}<br>value=%{y}<extra></extra>",
         "legendgroup": "y_pred",
         "line": {
          "color": "#EF553B",
          "dash": "solid"
         },
         "marker": {
          "symbol": "circle"
         },
         "mode": "lines",
         "name": "y_pred",
         "orientation": "v",
         "showlegend": true,
         "type": "scatter",
         "x": [
          "2018-04-25T03:00:00+03:00",
          "2018-04-25T04:00:00+03:00",
          "2018-04-25T05:00:00+03:00",
          "2018-04-25T06:00:00+03:00",
          "2018-04-25T07:00:00+03:00",
          "2018-04-25T08:00:00+03:00",
          "2018-04-25T09:00:00+03:00",
          "2018-04-25T10:00:00+03:00",
          "2018-04-25T11:00:00+03:00",
          "2018-04-25T12:00:00+03:00",
          "2018-04-25T13:00:00+03:00",
          "2018-04-25T14:00:00+03:00",
          "2018-04-25T15:00:00+03:00",
          "2018-04-25T16:00:00+03:00",
          "2018-04-25T17:00:00+03:00",
          "2018-04-25T18:00:00+03:00",
          "2018-04-25T19:00:00+03:00",
          "2018-04-25T20:00:00+03:00",
          "2018-04-25T21:00:00+03:00",
          "2018-04-25T22:00:00+03:00",
          "2018-04-25T23:00:00+03:00",
          "2018-04-26T00:00:00+03:00",
          "2018-04-26T01:00:00+03:00",
          "2018-04-26T02:00:00+03:00",
          "2018-04-26T03:00:00+03:00",
          "2018-04-26T04:00:00+03:00",
          "2018-04-26T05:00:00+03:00",
          "2018-04-26T06:00:00+03:00",
          "2018-04-26T07:00:00+03:00",
          "2018-04-26T08:00:00+03:00",
          "2018-04-26T09:00:00+03:00",
          "2018-04-26T10:00:00+03:00",
          "2018-04-26T11:00:00+03:00",
          "2018-04-26T12:00:00+03:00",
          "2018-04-26T13:00:00+03:00",
          "2018-04-26T14:00:00+03:00",
          "2018-04-26T15:00:00+03:00",
          "2018-04-26T16:00:00+03:00",
          "2018-04-26T17:00:00+03:00",
          "2018-04-26T18:00:00+03:00",
          "2018-04-26T19:00:00+03:00",
          "2018-04-26T20:00:00+03:00",
          "2018-04-26T21:00:00+03:00",
          "2018-04-26T22:00:00+03:00",
          "2018-04-26T23:00:00+03:00",
          "2018-04-27T00:00:00+03:00",
          "2018-04-27T01:00:00+03:00",
          "2018-04-27T02:00:00+03:00",
          "2018-04-27T03:00:00+03:00",
          "2018-04-27T04:00:00+03:00",
          "2018-04-27T05:00:00+03:00",
          "2018-04-27T06:00:00+03:00",
          "2018-04-27T07:00:00+03:00",
          "2018-04-27T08:00:00+03:00",
          "2018-04-27T09:00:00+03:00",
          "2018-04-27T10:00:00+03:00",
          "2018-04-27T11:00:00+03:00",
          "2018-04-27T12:00:00+03:00",
          "2018-04-27T13:00:00+03:00",
          "2018-04-27T14:00:00+03:00",
          "2018-04-27T15:00:00+03:00",
          "2018-04-27T16:00:00+03:00",
          "2018-04-27T17:00:00+03:00",
          "2018-04-27T18:00:00+03:00",
          "2018-04-27T19:00:00+03:00",
          "2018-04-27T20:00:00+03:00",
          "2018-04-27T21:00:00+03:00",
          "2018-04-27T22:00:00+03:00",
          "2018-04-27T23:00:00+03:00",
          "2018-04-28T00:00:00+03:00",
          "2018-04-28T01:00:00+03:00",
          "2018-04-28T02:00:00+03:00",
          "2018-04-28T03:00:00+03:00",
          "2018-04-28T04:00:00+03:00",
          "2018-04-28T05:00:00+03:00",
          "2018-04-28T06:00:00+03:00",
          "2018-04-28T07:00:00+03:00",
          "2018-04-28T08:00:00+03:00",
          "2018-04-28T09:00:00+03:00",
          "2018-04-28T10:00:00+03:00",
          "2018-04-28T11:00:00+03:00",
          "2018-04-28T12:00:00+03:00",
          "2018-04-28T13:00:00+03:00",
          "2018-04-28T14:00:00+03:00",
          "2018-04-28T15:00:00+03:00",
          "2018-04-28T16:00:00+03:00",
          "2018-04-28T17:00:00+03:00",
          "2018-04-28T18:00:00+03:00",
          "2018-04-28T19:00:00+03:00",
          "2018-04-28T20:00:00+03:00",
          "2018-04-28T21:00:00+03:00",
          "2018-04-28T22:00:00+03:00",
          "2018-04-28T23:00:00+03:00",
          "2018-04-29T00:00:00+03:00",
          "2018-04-29T01:00:00+03:00",
          "2018-04-29T02:00:00+03:00",
          "2018-04-29T03:00:00+03:00",
          "2018-04-29T04:00:00+03:00",
          "2018-04-29T05:00:00+03:00",
          "2018-04-29T06:00:00+03:00",
          "2018-04-29T07:00:00+03:00",
          "2018-04-29T08:00:00+03:00",
          "2018-04-29T09:00:00+03:00",
          "2018-04-29T10:00:00+03:00",
          "2018-04-29T11:00:00+03:00",
          "2018-04-29T12:00:00+03:00",
          "2018-04-29T13:00:00+03:00",
          "2018-04-29T14:00:00+03:00",
          "2018-04-29T15:00:00+03:00",
          "2018-04-29T16:00:00+03:00",
          "2018-04-29T17:00:00+03:00",
          "2018-04-29T18:00:00+03:00",
          "2018-04-29T19:00:00+03:00",
          "2018-04-29T20:00:00+03:00",
          "2018-04-29T21:00:00+03:00",
          "2018-04-29T22:00:00+03:00",
          "2018-04-29T23:00:00+03:00",
          "2018-04-30T00:00:00+03:00",
          "2018-04-30T01:00:00+03:00",
          "2018-04-30T02:00:00+03:00",
          "2018-04-30T03:00:00+03:00",
          "2018-04-30T04:00:00+03:00",
          "2018-04-30T05:00:00+03:00",
          "2018-04-30T06:00:00+03:00",
          "2018-04-30T07:00:00+03:00",
          "2018-04-30T08:00:00+03:00",
          "2018-04-30T09:00:00+03:00",
          "2018-04-30T10:00:00+03:00",
          "2018-04-30T11:00:00+03:00",
          "2018-04-30T12:00:00+03:00",
          "2018-04-30T13:00:00+03:00",
          "2018-04-30T14:00:00+03:00",
          "2018-04-30T15:00:00+03:00",
          "2018-04-30T16:00:00+03:00",
          "2018-04-30T17:00:00+03:00",
          "2018-04-30T18:00:00+03:00",
          "2018-04-30T19:00:00+03:00",
          "2018-04-30T20:00:00+03:00",
          "2018-04-30T21:00:00+03:00",
          "2018-04-30T22:00:00+03:00",
          "2018-04-30T23:00:00+03:00",
          "2018-05-01T00:00:00+03:00",
          "2018-05-01T01:00:00+03:00",
          "2018-05-01T02:00:00+03:00"
         ],
         "xaxis": "x",
         "y": [
          2.753110479135083,
          2.1624111718380727,
          2.050263798371964,
          2.053981650870421,
          3.205198205519163,
          5.991689435259187,
          3.0767518921969503,
          2.776845123988101,
          3.1640665209159824,
          5.414304232651703,
          7.888845247942191,
          6.225129785594782,
          6.32565298732521,
          4.629653388092466,
          5.319667987236438,
          5.187817564242643,
          5.501684462143627,
          9.072184586022448,
          9.422449714438915,
          7.993359258430455,
          9.2024864640636,
          7.41253657532344,
          6.128747989179091,
          6.544802351896693,
          5.760053106178118,
          5.955969814419584,
          6.414504955895924,
          7.828543876617011,
          7.312232993571824,
          6.9393339566907395,
          9.807194388580534,
          8.949923488430036,
          7.265751993770443,
          8.638910224149846,
          8.15867976619517,
          5.679593758226283,
          3.3887754083796735,
          3.369003335430075,
          4.590404160450529,
          5.281987473728872,
          5.147234929586491,
          6.774601859336791,
          5.98122611198294,
          7.398465209538141,
          5.510015760300889,
          6.152843438283014,
          11.386073790541216,
          5.564858006438464,
          4.203371009218772,
          4.437705526610957,
          4.035047982600874,
          3.314521893543406,
          3.956016164511315,
          5.674903302964517,
          4.229882278089624,
          4.110001143941071,
          4.127413870832578,
          4.290136587990775,
          3.404456274866836,
          2.8191376570507147,
          3.7376511570070168,
          3.1330373553381445,
          3.779598572960069,
          4.8132870646618136,
          5.183487913231782,
          5.791443076006862,
          6.101640608937179,
          6.982097103993665,
          6.67000142696076,
          4.36601529067025,
          3.8009017109048133,
          3.924390887562417,
          3.779818192938881,
          4.273021916784797,
          2.298529923381113,
          2.130032912104677,
          6.469558265389758,
          7.5511838088303325,
          6.7474431393595715,
          7.673868662968132,
          8.28867910651041,
          8.580820739754127,
          4.024223855073721,
          2.136433265772906,
          4.580223205718468,
          3.1640665209159824,
          3.2521027581368247,
          4.55275502122565,
          4.546307606133389,
          3.2513811496350145,
          10.182070005270926,
          4.758319321393491,
          3.975876085452439,
          3.1799419079558064,
          3.079277521953286,
          2.6774513964344195,
          2.4662710996655353,
          2.8111999635308025,
          2.663991829161525,
          2.6537324387227454,
          2.588583740722361,
          3.1045338195166425,
          2.750867217922934,
          2.245458898111619,
          2.1740196564324106,
          2.104745240258633,
          2.0066064840124476,
          2.356680730238449,
          2.234995574835371,
          2.3558649988885767,
          2.439571585098558,
          2.4331084828649536,
          2.4994650907488034,
          2.5239997798103495,
          2.015626590285075,
          1.9813501864490914,
          2.7015468455383425,
          3.110667491782029,
          3.2181871585517463,
          4.49182616424672,
          8.22316960425912,
          6.801334174290214,
          6.08044728098184,
          5.342963392131832,
          5.413681025309231,
          5.518078950951551,
          2.5716259409298217,
          2.285868974212989,
          1.6006860146028759,
          1.688737938965062,
          1.6035881357514603,
          1.2629889228970534,
          1.2147823375478646,
          1.2979869352348474,
          1.336389057244224,
          8.31599041958979,
          11.572248784008243,
          4.38971856124058,
          3.602443685765669,
          3.2466906943732488,
          3.129994049917467,
          2.97536589769262,
          2.6221385360565344,
          1.9921743139762442
         ],
         "yaxis": "y"
        }
       ],
       "layout": {
        "legend": {
         "title": {
          "text": "variable"
         },
         "tracegroupgap": 0
        },
        "margin": {
         "t": 60
        },
        "template": {
         "data": {
          "bar": [
           {
            "error_x": {
             "color": "#2a3f5f"
            },
            "error_y": {
             "color": "#2a3f5f"
            },
            "marker": {
             "line": {
              "color": "#E5ECF6",
              "width": 0.5
             },
             "pattern": {
              "fillmode": "overlay",
              "size": 10,
              "solidity": 0.2
             }
            },
            "type": "bar"
           }
          ],
          "barpolar": [
           {
            "marker": {
             "line": {
              "color": "#E5ECF6",
              "width": 0.5
             },
             "pattern": {
              "fillmode": "overlay",
              "size": 10,
              "solidity": 0.2
             }
            },
            "type": "barpolar"
           }
          ],
          "carpet": [
           {
            "aaxis": {
             "endlinecolor": "#2a3f5f",
             "gridcolor": "white",
             "linecolor": "white",
             "minorgridcolor": "white",
             "startlinecolor": "#2a3f5f"
            },
            "baxis": {
             "endlinecolor": "#2a3f5f",
             "gridcolor": "white",
             "linecolor": "white",
             "minorgridcolor": "white",
             "startlinecolor": "#2a3f5f"
            },
            "type": "carpet"
           }
          ],
          "choropleth": [
           {
            "colorbar": {
             "outlinewidth": 0,
             "ticks": ""
            },
            "type": "choropleth"
           }
          ],
          "contour": [
           {
            "colorbar": {
             "outlinewidth": 0,
             "ticks": ""
            },
            "colorscale": [
             [
              0,
              "#0d0887"
             ],
             [
              0.1111111111111111,
              "#46039f"
             ],
             [
              0.2222222222222222,
              "#7201a8"
             ],
             [
              0.3333333333333333,
              "#9c179e"
             ],
             [
              0.4444444444444444,
              "#bd3786"
             ],
             [
              0.5555555555555556,
              "#d8576b"
             ],
             [
              0.6666666666666666,
              "#ed7953"
             ],
             [
              0.7777777777777778,
              "#fb9f3a"
             ],
             [
              0.8888888888888888,
              "#fdca26"
             ],
             [
              1,
              "#f0f921"
             ]
            ],
            "type": "contour"
           }
          ],
          "contourcarpet": [
           {
            "colorbar": {
             "outlinewidth": 0,
             "ticks": ""
            },
            "type": "contourcarpet"
           }
          ],
          "heatmap": [
           {
            "colorbar": {
             "outlinewidth": 0,
             "ticks": ""
            },
            "colorscale": [
             [
              0,
              "#0d0887"
             ],
             [
              0.1111111111111111,
              "#46039f"
             ],
             [
              0.2222222222222222,
              "#7201a8"
             ],
             [
              0.3333333333333333,
              "#9c179e"
             ],
             [
              0.4444444444444444,
              "#bd3786"
             ],
             [
              0.5555555555555556,
              "#d8576b"
             ],
             [
              0.6666666666666666,
              "#ed7953"
             ],
             [
              0.7777777777777778,
              "#fb9f3a"
             ],
             [
              0.8888888888888888,
              "#fdca26"
             ],
             [
              1,
              "#f0f921"
             ]
            ],
            "type": "heatmap"
           }
          ],
          "heatmapgl": [
           {
            "colorbar": {
             "outlinewidth": 0,
             "ticks": ""
            },
            "colorscale": [
             [
              0,
              "#0d0887"
             ],
             [
              0.1111111111111111,
              "#46039f"
             ],
             [
              0.2222222222222222,
              "#7201a8"
             ],
             [
              0.3333333333333333,
              "#9c179e"
             ],
             [
              0.4444444444444444,
              "#bd3786"
             ],
             [
              0.5555555555555556,
              "#d8576b"
             ],
             [
              0.6666666666666666,
              "#ed7953"
             ],
             [
              0.7777777777777778,
              "#fb9f3a"
             ],
             [
              0.8888888888888888,
              "#fdca26"
             ],
             [
              1,
              "#f0f921"
             ]
            ],
            "type": "heatmapgl"
           }
          ],
          "histogram": [
           {
            "marker": {
             "pattern": {
              "fillmode": "overlay",
              "size": 10,
              "solidity": 0.2
             }
            },
            "type": "histogram"
           }
          ],
          "histogram2d": [
           {
            "colorbar": {
             "outlinewidth": 0,
             "ticks": ""
            },
            "colorscale": [
             [
              0,
              "#0d0887"
             ],
             [
              0.1111111111111111,
              "#46039f"
             ],
             [
              0.2222222222222222,
              "#7201a8"
             ],
             [
              0.3333333333333333,
              "#9c179e"
             ],
             [
              0.4444444444444444,
              "#bd3786"
             ],
             [
              0.5555555555555556,
              "#d8576b"
             ],
             [
              0.6666666666666666,
              "#ed7953"
             ],
             [
              0.7777777777777778,
              "#fb9f3a"
             ],
             [
              0.8888888888888888,
              "#fdca26"
             ],
             [
              1,
              "#f0f921"
             ]
            ],
            "type": "histogram2d"
           }
          ],
          "histogram2dcontour": [
           {
            "colorbar": {
             "outlinewidth": 0,
             "ticks": ""
            },
            "colorscale": [
             [
              0,
              "#0d0887"
             ],
             [
              0.1111111111111111,
              "#46039f"
             ],
             [
              0.2222222222222222,
              "#7201a8"
             ],
             [
              0.3333333333333333,
              "#9c179e"
             ],
             [
              0.4444444444444444,
              "#bd3786"
             ],
             [
              0.5555555555555556,
              "#d8576b"
             ],
             [
              0.6666666666666666,
              "#ed7953"
             ],
             [
              0.7777777777777778,
              "#fb9f3a"
             ],
             [
              0.8888888888888888,
              "#fdca26"
             ],
             [
              1,
              "#f0f921"
             ]
            ],
            "type": "histogram2dcontour"
           }
          ],
          "mesh3d": [
           {
            "colorbar": {
             "outlinewidth": 0,
             "ticks": ""
            },
            "type": "mesh3d"
           }
          ],
          "parcoords": [
           {
            "line": {
             "colorbar": {
              "outlinewidth": 0,
              "ticks": ""
             }
            },
            "type": "parcoords"
           }
          ],
          "pie": [
           {
            "automargin": true,
            "type": "pie"
           }
          ],
          "scatter": [
           {
            "fillpattern": {
             "fillmode": "overlay",
             "size": 10,
             "solidity": 0.2
            },
            "type": "scatter"
           }
          ],
          "scatter3d": [
           {
            "line": {
             "colorbar": {
              "outlinewidth": 0,
              "ticks": ""
             }
            },
            "marker": {
             "colorbar": {
              "outlinewidth": 0,
              "ticks": ""
             }
            },
            "type": "scatter3d"
           }
          ],
          "scattercarpet": [
           {
            "marker": {
             "colorbar": {
              "outlinewidth": 0,
              "ticks": ""
             }
            },
            "type": "scattercarpet"
           }
          ],
          "scattergeo": [
           {
            "marker": {
             "colorbar": {
              "outlinewidth": 0,
              "ticks": ""
             }
            },
            "type": "scattergeo"
           }
          ],
          "scattergl": [
           {
            "marker": {
             "colorbar": {
              "outlinewidth": 0,
              "ticks": ""
             }
            },
            "type": "scattergl"
           }
          ],
          "scattermapbox": [
           {
            "marker": {
             "colorbar": {
              "outlinewidth": 0,
              "ticks": ""
             }
            },
            "type": "scattermapbox"
           }
          ],
          "scatterpolar": [
           {
            "marker": {
             "colorbar": {
              "outlinewidth": 0,
              "ticks": ""
             }
            },
            "type": "scatterpolar"
           }
          ],
          "scatterpolargl": [
           {
            "marker": {
             "colorbar": {
              "outlinewidth": 0,
              "ticks": ""
             }
            },
            "type": "scatterpolargl"
           }
          ],
          "scatterternary": [
           {
            "marker": {
             "colorbar": {
              "outlinewidth": 0,
              "ticks": ""
             }
            },
            "type": "scatterternary"
           }
          ],
          "surface": [
           {
            "colorbar": {
             "outlinewidth": 0,
             "ticks": ""
            },
            "colorscale": [
             [
              0,
              "#0d0887"
             ],
             [
              0.1111111111111111,
              "#46039f"
             ],
             [
              0.2222222222222222,
              "#7201a8"
             ],
             [
              0.3333333333333333,
              "#9c179e"
             ],
             [
              0.4444444444444444,
              "#bd3786"
             ],
             [
              0.5555555555555556,
              "#d8576b"
             ],
             [
              0.6666666666666666,
              "#ed7953"
             ],
             [
              0.7777777777777778,
              "#fb9f3a"
             ],
             [
              0.8888888888888888,
              "#fdca26"
             ],
             [
              1,
              "#f0f921"
             ]
            ],
            "type": "surface"
           }
          ],
          "table": [
           {
            "cells": {
             "fill": {
              "color": "#EBF0F8"
             },
             "line": {
              "color": "white"
             }
            },
            "header": {
             "fill": {
              "color": "#C8D4E3"
             },
             "line": {
              "color": "white"
             }
            },
            "type": "table"
           }
          ]
         },
         "layout": {
          "annotationdefaults": {
           "arrowcolor": "#2a3f5f",
           "arrowhead": 0,
           "arrowwidth": 1
          },
          "autotypenumbers": "strict",
          "coloraxis": {
           "colorbar": {
            "outlinewidth": 0,
            "ticks": ""
           }
          },
          "colorscale": {
           "diverging": [
            [
             0,
             "#8e0152"
            ],
            [
             0.1,
             "#c51b7d"
            ],
            [
             0.2,
             "#de77ae"
            ],
            [
             0.3,
             "#f1b6da"
            ],
            [
             0.4,
             "#fde0ef"
            ],
            [
             0.5,
             "#f7f7f7"
            ],
            [
             0.6,
             "#e6f5d0"
            ],
            [
             0.7,
             "#b8e186"
            ],
            [
             0.8,
             "#7fbc41"
            ],
            [
             0.9,
             "#4d9221"
            ],
            [
             1,
             "#276419"
            ]
           ],
           "sequential": [
            [
             0,
             "#0d0887"
            ],
            [
             0.1111111111111111,
             "#46039f"
            ],
            [
             0.2222222222222222,
             "#7201a8"
            ],
            [
             0.3333333333333333,
             "#9c179e"
            ],
            [
             0.4444444444444444,
             "#bd3786"
            ],
            [
             0.5555555555555556,
             "#d8576b"
            ],
            [
             0.6666666666666666,
             "#ed7953"
            ],
            [
             0.7777777777777778,
             "#fb9f3a"
            ],
            [
             0.8888888888888888,
             "#fdca26"
            ],
            [
             1,
             "#f0f921"
            ]
           ],
           "sequentialminus": [
            [
             0,
             "#0d0887"
            ],
            [
             0.1111111111111111,
             "#46039f"
            ],
            [
             0.2222222222222222,
             "#7201a8"
            ],
            [
             0.3333333333333333,
             "#9c179e"
            ],
            [
             0.4444444444444444,
             "#bd3786"
            ],
            [
             0.5555555555555556,
             "#d8576b"
            ],
            [
             0.6666666666666666,
             "#ed7953"
            ],
            [
             0.7777777777777778,
             "#fb9f3a"
            ],
            [
             0.8888888888888888,
             "#fdca26"
            ],
            [
             1,
             "#f0f921"
            ]
           ]
          },
          "colorway": [
           "#636efa",
           "#EF553B",
           "#00cc96",
           "#ab63fa",
           "#FFA15A",
           "#19d3f3",
           "#FF6692",
           "#B6E880",
           "#FF97FF",
           "#FECB52"
          ],
          "font": {
           "color": "#2a3f5f"
          },
          "geo": {
           "bgcolor": "white",
           "lakecolor": "white",
           "landcolor": "#E5ECF6",
           "showlakes": true,
           "showland": true,
           "subunitcolor": "white"
          },
          "hoverlabel": {
           "align": "left"
          },
          "hovermode": "closest",
          "mapbox": {
           "style": "light"
          },
          "paper_bgcolor": "white",
          "plot_bgcolor": "#E5ECF6",
          "polar": {
           "angularaxis": {
            "gridcolor": "white",
            "linecolor": "white",
            "ticks": ""
           },
           "bgcolor": "#E5ECF6",
           "radialaxis": {
            "gridcolor": "white",
            "linecolor": "white",
            "ticks": ""
           }
          },
          "scene": {
           "xaxis": {
            "backgroundcolor": "#E5ECF6",
            "gridcolor": "white",
            "gridwidth": 2,
            "linecolor": "white",
            "showbackground": true,
            "ticks": "",
            "zerolinecolor": "white"
           },
           "yaxis": {
            "backgroundcolor": "#E5ECF6",
            "gridcolor": "white",
            "gridwidth": 2,
            "linecolor": "white",
            "showbackground": true,
            "ticks": "",
            "zerolinecolor": "white"
           },
           "zaxis": {
            "backgroundcolor": "#E5ECF6",
            "gridcolor": "white",
            "gridwidth": 2,
            "linecolor": "white",
            "showbackground": true,
            "ticks": "",
            "zerolinecolor": "white"
           }
          },
          "shapedefaults": {
           "line": {
            "color": "#2a3f5f"
           }
          },
          "ternary": {
           "aaxis": {
            "gridcolor": "white",
            "linecolor": "white",
            "ticks": ""
           },
           "baxis": {
            "gridcolor": "white",
            "linecolor": "white",
            "ticks": ""
           },
           "bgcolor": "#E5ECF6",
           "caxis": {
            "gridcolor": "white",
            "linecolor": "white",
            "ticks": ""
           }
          },
          "title": {
           "x": 0.05
          },
          "xaxis": {
           "automargin": true,
           "gridcolor": "white",
           "linecolor": "white",
           "ticks": "",
           "title": {
            "standoff": 15
           },
           "zerolinecolor": "white",
           "zerolinewidth": 2
          },
          "yaxis": {
           "automargin": true,
           "gridcolor": "white",
           "linecolor": "white",
           "ticks": "",
           "title": {
            "standoff": 15
           },
           "zerolinecolor": "white",
           "zerolinewidth": 2
          }
         }
        },
        "xaxis": {
         "anchor": "y",
         "domain": [
          0,
          1
         ],
         "title": {
          "text": "timestamp"
         }
        },
        "yaxis": {
         "anchor": "x",
         "domain": [
          0,
          1
         ],
         "title": {
          "text": "value"
         }
        }
       }
      }
     },
     "metadata": {},
     "output_type": "display_data"
    }
   ],
   "source": [
    "\n",
    "fig = px.line(df_pred_test, labels={'values':'P2'})\n",
    "fig.show()\n"
   ]
  }
 ],
 "metadata": {
  "kernelspec": {
   "display_name": "Python 3",
   "language": "python",
   "name": "python3"
  },
  "language_info": {
   "codemirror_mode": {
    "name": "ipython",
    "version": 3
   },
   "file_extension": ".py",
   "mimetype": "text/x-python",
   "name": "python",
   "nbconvert_exporter": "python",
   "pygments_lexer": "ipython3",
   "version": "3.12.5"
  }
 },
 "nbformat": 4,
 "nbformat_minor": 5
}
